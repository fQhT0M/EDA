{
 "cells": [
  {
   "cell_type": "markdown",
   "metadata": {},
   "source": [
    "Привет, Савва!\n",
    "\n",
    "Меня зовут Вячеслав Погорелый, и я буду проводить ревью твоего проекта. \n",
    "\n",
    "Предлагаю перейти на \"ты\", если не против)\n",
    "\n",
    "Но если это не удобно - дай знать, и мы перейдем на \"вы\". Моя главная задача — не находить сделанные тобою ошибки, а передать свой опыт и помочь тебе стать аналитиком данных.\n",
    "\n",
    "Я отметил комментарии и замечания разным цветом далее по тексту markdown:\n",
    "\n",
    "---    \n",
    "<div class=\"alert alert-block alert-danger\">\n",
    "    \n",
    "### Ошибка\n",
    "    \n",
    "Критическое замечание, которые следует исправить.\n",
    "</div> \n",
    "    \n",
    "---\n",
    "    \n",
    "<div class=\"alert alert-block alert-warning\">\n",
    "    \n",
    "### Совет\n",
    "    \n",
    "Замечание\\совет на будущее.\n",
    "</div>\n",
    "    \n",
    "---\n",
    "    \n",
    "<div class=\"alert alert-block alert-success\">\n",
    "    \n",
    "### Успех\n",
    "    \n",
    "Когда всё сделано правильно.\n",
    "</div>\n",
    "    \n",
    "    \n",
    "    \n",
    "Будет здорово, если для ответов ты выберешь любой **<font color=\"maroon\">читабельный и заметный цвет</font>**, так мне будет проще все проверить.\n",
    "\n",
    "\n",
    "При доработке проекта попрошу тебя сохранить и не видоизменять заметки ревьюера, это осложняет повторную проверку"
   ]
  },
  {
   "cell_type": "markdown",
   "metadata": {},
   "source": [
    "<div class=\"alert alert-block alert-success\">\n",
    " \n",
    "# Итоговый Комментарий ревьюера ver.4\n",
    "    \n",
    "#### Успех\n",
    "    \n",
    "Спасибо большое за быструю рекацию и исправление замечаний. Теперь я могу принять работу. Очень хочу, чтобы ты усвоил уроки по рекомендациям и замечаниям. Проект надо оформлять как следует. Не стоит лепить все в одну общую ячейку. Любая работа должна иметь четкую структуру и последовательность. Всегд пиши пояснения и вывод к своим действиям. Это очень важный момент который нельзя забывать. От себя хочу пожелать успехов в дальнешей учебе. Ты точно сможешь "
   ]
  },
  {
   "cell_type": "markdown",
   "metadata": {},
   "source": [
    "<div class=\"alert alert-block alert-info\">\n",
    " \n",
    "# Итоговый Комментарий ревьюера ver.3\n",
    "    \n",
    "#### Успех\n",
    "    \n",
    "Благодарю за то, что прислушался к замечаниям. Вот теперь почти все хорошо. Осталось два замечания. Убежден, что ты быстро их сможешь поправить. "
   ]
  },
  {
   "cell_type": "markdown",
   "metadata": {},
   "source": [
    "<div class=\"alert alert-block alert-info\">\n",
    " \n",
    "# Итоговый Комментарий ревьюера ver.2\n",
    "    \n",
    "#### Успех\n",
    "    \n",
    "Спасибо тебе за то, что прислушался к замечаниям. Теперь стало намного лучше в плане оформления, но замечаний все еще достаточно. Я оставил подсказку что надо исправить. Уверен, ты справишься."
   ]
  },
  {
   "cell_type": "markdown",
   "metadata": {
    "id": "-VFbjcb3Awb7"
   },
   "source": [
    "# Исследование объявлений о продаже квартир\n",
    "\n",
    "В вашем распоряжении данные сервиса Яндекс Недвижимость — архив объявлений о продаже квартир в Санкт-Петербурге и соседних населённых пунктах за несколько лет. Вам нужно научиться определять рыночную стоимость объектов недвижимости. Для этого проведите исследовательский анализ данных и установите параметры, влияющие на цену объектов. Это позволит построить автоматизированную систему: она отследит аномалии и мошенническую деятельность.\n",
    "\n",
    "По каждой квартире на продажу доступны два вида данных. Первые вписаны пользователем, вторые — получены автоматически на основе картографических данных. Например, расстояние до центра, аэропорта и других объектов — эти данные автоматически получены из геосервисов. Количество парков и водоёмов также заполняется без участия пользователя."
   ]
  },
  {
   "cell_type": "markdown",
   "metadata": {},
   "source": [
    "<div class=\"alert alert-block alert-success\">\n",
    " \n",
    "### Комментарий ревьюера\n",
    "    \n",
    "#### Успех\n",
    "    \n",
    "Хвалю за вступление в проект. Есть подробное описание и информация о данных.\n",
    "</div "
   ]
  },
  {
   "cell_type": "markdown",
   "metadata": {
    "id": "aeFLH07FAwb9"
   },
   "source": [
    "### Откройте файл с данными и изучите общую информацию"
   ]
  },
  {
   "cell_type": "code",
   "execution_count": 2,
   "metadata": {
    "id": "7v3vAeTuAwb-"
   },
   "outputs": [
    {
     "name": "stdout",
     "output_type": "stream",
     "text": [
      "<class 'pandas.core.frame.DataFrame'>\n",
      "RangeIndex: 23699 entries, 0 to 23698\n",
      "Data columns (total 22 columns):\n",
      " #   Column                Non-Null Count  Dtype  \n",
      "---  ------                --------------  -----  \n",
      " 0   total_images          23699 non-null  int64  \n",
      " 1   last_price            23699 non-null  float64\n",
      " 2   total_area            23699 non-null  float64\n",
      " 3   first_day_exposition  23699 non-null  object \n",
      " 4   rooms                 23699 non-null  int64  \n",
      " 5   ceiling_height        14504 non-null  float64\n",
      " 6   floors_total          23613 non-null  float64\n",
      " 7   living_area           21796 non-null  float64\n",
      " 8   floor                 23699 non-null  int64  \n",
      " 9   is_apartment          2775 non-null   object \n",
      " 10  studio                23699 non-null  bool   \n",
      " 11  open_plan             23699 non-null  bool   \n",
      " 12  kitchen_area          21421 non-null  float64\n",
      " 13  balcony               12180 non-null  float64\n",
      " 14  locality_name         23650 non-null  object \n",
      " 15  airports_nearest      18157 non-null  float64\n",
      " 16  cityCenters_nearest   18180 non-null  float64\n",
      " 17  parks_around3000      18181 non-null  float64\n",
      " 18  parks_nearest         8079 non-null   float64\n",
      " 19  ponds_around3000      18181 non-null  float64\n",
      " 20  ponds_nearest         9110 non-null   float64\n",
      " 21  days_exposition       20518 non-null  float64\n",
      "dtypes: bool(2), float64(14), int64(3), object(3)\n",
      "memory usage: 3.7+ MB\n"
     ]
    },
    {
     "data": {
      "text/plain": [
       "array([[<AxesSubplot:title={'center':'total_images'}>,\n",
       "        <AxesSubplot:title={'center':'last_price'}>,\n",
       "        <AxesSubplot:title={'center':'total_area'}>,\n",
       "        <AxesSubplot:title={'center':'rooms'}>],\n",
       "       [<AxesSubplot:title={'center':'ceiling_height'}>,\n",
       "        <AxesSubplot:title={'center':'floors_total'}>,\n",
       "        <AxesSubplot:title={'center':'living_area'}>,\n",
       "        <AxesSubplot:title={'center':'floor'}>],\n",
       "       [<AxesSubplot:title={'center':'kitchen_area'}>,\n",
       "        <AxesSubplot:title={'center':'balcony'}>,\n",
       "        <AxesSubplot:title={'center':'airports_nearest'}>,\n",
       "        <AxesSubplot:title={'center':'cityCenters_nearest'}>],\n",
       "       [<AxesSubplot:title={'center':'parks_around3000'}>,\n",
       "        <AxesSubplot:title={'center':'parks_nearest'}>,\n",
       "        <AxesSubplot:title={'center':'ponds_around3000'}>,\n",
       "        <AxesSubplot:title={'center':'ponds_nearest'}>],\n",
       "       [<AxesSubplot:title={'center':'days_exposition'}>, <AxesSubplot:>,\n",
       "        <AxesSubplot:>, <AxesSubplot:>]], dtype=object)"
      ]
     },
     "execution_count": 2,
     "metadata": {},
     "output_type": "execute_result"
    },
    {
     "data": {
      "image/png": "[encoded data removed]",
      "text/plain": [
       "<Figure size 1080x1440 with 20 Axes>"
      ]
     },
     "metadata": {
      "needs_background": "light"
     },
     "output_type": "display_data"
    }
   ],
   "source": [
    "from IPython.display import display\n",
    "import pandas as pd\n",
    "import numpy as np\n",
    "import seaborn as sns\n",
    "from matplotlib import pyplot as plt\n",
    "\n",
    "data = pd.read_csv('/datasets/real_estate_data.csv', sep='\\t')\n",
    "data.info()\n",
    "data.describe()\n",
    "# Датасет содержит 22 столбца, 23699 записей. 14 столбцов имеют вещественную запись, 3-целочисленную, 2-булевые, 3 столбца с объктами)\n",
    "# 3 столбца имеют названия не в змеином регистре, \n",
    "data.hist(figsize=(15, 20))\n",
    "#Столбец floors_total:\n",
    "#Предполагается, что все значения должны быть целыми числами. \n",
    "#Следующий шаг: привести столбец к типу int.\n",
    "\n",
    "#Столбец balcony:\n",
    "#Предполагается, что все значения должны быть целыми числами.\n",
    "#Следующий шаг: привести столбец к типу int.\n",
    "\n",
    "#Столбец airports_nearest:\n",
    "\n",
    "#Предполагается, что все значения являются целыми числами.\n",
    "#Следующий шаг: проверить гипотезу.\n",
    "\n",
    "#Столбец rooms:\n",
    "#Найдено минимальное значение 0 комнат, что невозможно.\n",
    "#Следующий шаг: проверить аномалию.\n",
    "\n",
    "#Столбец ceiling_height:\n",
    "#Найдено максимальное значение 100 м и минимальное 0 м, что нереалистично.\n",
    "#Следующий шаг: проверить аномалии.\n",
    "\n",
    "#Столбец airports_nearest:\n",
    "#Найдено минимальное значение 0 м, что означает продажу квартиры на территории аэропорта.\n",
    "#Следующий шаг: проверить аномалию."
   ]
  },
  {
   "cell_type": "markdown",
   "metadata": {},
   "source": [
    "<div class=\"alert alert-block alert-danger\">\n",
    " \n",
    "### Комментарий ревьюера\n",
    "    \n",
    "#### Ошибка\n",
    "    \n",
    "А тут важно оформить проект как следует и не надо все в одну ячейку кода записывать. Важно разделять код структурно и выводы писать отдельно от кода.  "
   ]
  },
  {
   "cell_type": "markdown",
   "metadata": {},
   "source": [
    "<div class=\"alert alert-block alert-success\">\n",
    " \n",
    "# Комментарий ревьюера ver.2 \n",
    "    \n",
    "#### Успех\n",
    "\n",
    "Вот так по оформлению надо было делать сразу. Уже хорошо. "
   ]
  },
  {
   "cell_type": "markdown",
   "metadata": {
    "id": "QCcvyY6YAwb-"
   },
   "source": [
    "### Добавьте в таблицу новые столбцы"
   ]
  },
  {
   "cell_type": "code",
   "execution_count": 3,
   "metadata": {},
   "outputs": [],
   "source": [
    "data['balcony'] = data['balcony'].fillna(0)"
   ]
  },
  {
   "cell_type": "code",
   "execution_count": 4,
   "metadata": {},
   "outputs": [],
   "source": [
    "data['locality_name'].isna().sum()\n",
    "data= data.dropna(subset=['locality_name'])"
   ]
  },
  {
   "cell_type": "markdown",
   "metadata": {},
   "source": [
    "<div class=\"alert alert-block alert-success\">\n",
    " \n",
    "# Комментарий ревьюера ver.2\n",
    "    \n",
    "#### Успех\n",
    "    \n",
    "Согласен. Пропусков тут мало и логично избавиться от них."
   ]
  },
  {
   "cell_type": "code",
   "execution_count": 5,
   "metadata": {
    "id": "Z8eJek3IAwb-"
   },
   "outputs": [
    {
     "data": {
      "text/plain": [
       "Index(['total_images', 'last_price', 'total_area', 'first_day_exposition',\n",
       "       'rooms', 'ceiling_height', 'floors_total', 'living_area', 'floor',\n",
       "       'is_apartment', 'studio', 'open_plan', 'kitchen_area', 'balcony',\n",
       "       'locality_name', 'airports_nearest', 'city_сenters_nearest',\n",
       "       'parks_around_3000', 'parks_nearest', 'ponds_around_3000',\n",
       "       'ponds_nearest', 'days_exposition'],\n",
       "      dtype='object')"
      ]
     },
     "execution_count": 5,
     "metadata": {},
     "output_type": "execute_result"
    }
   ],
   "source": [
    "data.columns\n",
    "data = data.rename(columns={\n",
    "    \"cityCenters_nearest\": \"city_сenters_nearest\",\n",
    "    \"parks_around3000\": \"parks_around_3000\",\n",
    "    \"ponds_around3000\": \"ponds_around_3000\",\n",
    "})\n",
    "data.columns"
   ]
  },
  {
   "cell_type": "code",
   "execution_count": 6,
   "metadata": {},
   "outputs": [
    {
     "data": {
      "text/plain": [
       "array([20,  7, 10,  0,  2,  6,  5, 18,  9,  1, 16, 11,  8, 12, 13,  3, 15,\n",
       "       17, 14, 19, 32,  4, 35, 39, 23, 21, 27, 30, 24, 25, 28, 31, 22, 29,\n",
       "       26, 50, 42, 37])"
      ]
     },
     "execution_count": 6,
     "metadata": {},
     "output_type": "execute_result"
    }
   ],
   "source": [
    "data['total_images'].unique()"
   ]
  },
  {
   "cell_type": "code",
   "execution_count": 7,
   "metadata": {},
   "outputs": [
    {
     "data": {
      "text/plain": [
       "0        13000000\n",
       "1         3350000\n",
       "2         5196000\n",
       "3        64900000\n",
       "4        10000000\n",
       "           ...   \n",
       "23694     9700000\n",
       "23695     3100000\n",
       "23696     2500000\n",
       "23697    11475000\n",
       "23698     1350000\n",
       "Name: last_price, Length: 23650, dtype: int64"
      ]
     },
     "execution_count": 7,
     "metadata": {},
     "output_type": "execute_result"
    }
   ],
   "source": [
    "len(data.query('last_price % 1 != 0'))\n",
    "data['last_price'] = data['last_price'].astype('int')\n",
    "data['last_price']"
   ]
  },
  {
   "cell_type": "markdown",
   "metadata": {},
   "source": [
    "<div class=\"alert alert-block alert-warning\">\n",
    " \n",
    "# Комментарий ревьюера ver.2\n",
    "    \n",
    "#### Совет\n",
    "    \n",
    "Для экономии вычислительной памяти лучше всего перевести в int32 "
   ]
  },
  {
   "cell_type": "code",
   "execution_count": 7,
   "metadata": {},
   "outputs": [
    {
     "data": {
      "text/plain": [
       "<AxesSubplot:>"
      ]
     },
     "execution_count": 7,
     "metadata": {},
     "output_type": "execute_result"
    },
    {
     "data": {
      "image/png": "[encoded data removed]",
      "text/plain": [
       "<Figure size 432x288 with 1 Axes>"
      ]
     },
     "metadata": {
      "needs_background": "light"
     },
     "output_type": "display_data"
    }
   ],
   "source": [
    "data['total_area'].describe()\n",
    "len(data.query('total_area % 1 > 1e-10'))\n",
    "data['total_area'].hist(bins=900)"
   ]
  },
  {
   "cell_type": "code",
   "execution_count": 8,
   "metadata": {},
   "outputs": [
    {
     "data": {
      "text/plain": [
       "Text(0.5, 1.0, 'Гистограмма площадей квартир')"
      ]
     },
     "execution_count": 8,
     "metadata": {},
     "output_type": "execute_result"
    },
    {
     "data": {
      "image/png": "[encoded data removed]",
      "text/plain": [
       "<Figure size 432x288 with 1 Axes>"
      ]
     },
     "metadata": {
      "needs_background": "light"
     },
     "output_type": "display_data"
    }
   ],
   "source": [
    "data.query('total_area < 100')['total_area'].hist(bins=100)\n",
    "plt.title('Гистограмма площадей квартир')"
   ]
  },
  {
   "cell_type": "markdown",
   "metadata": {},
   "source": [
    "<div class=\"alert alert-block alert-warning\">\n",
    " \n",
    "# Комментарий ревьюера ver.2\n",
    "    \n",
    "#### Совет\n",
    "    \n",
    "Давай привыкнем оформлять графики правильно. Не забывай давать им названия. Сделать это можно командой title()"
   ]
  },
  {
   "cell_type": "markdown",
   "metadata": {},
   "source": [
    "<div class=\"alert alert-block alert-success\">\n",
    " \n",
    "# Комментарий ревьюера ver.3\n",
    "    \n",
    "#### Успех\n",
    "\n",
    "Превосходно"
   ]
  },
  {
   "cell_type": "code",
   "execution_count": 8,
   "metadata": {},
   "outputs": [
    {
     "data": {
      "text/plain": [
       "count                            23650\n",
       "mean     2017-11-10 00:03:57.463002112\n",
       "min                2014-11-27 00:00:00\n",
       "25%                2017-05-15 00:00:00\n",
       "50%                2017-12-12 00:00:00\n",
       "75%                2018-08-27 00:00:00\n",
       "max                2019-05-03 00:00:00\n",
       "Name: first_day_exposition, dtype: object"
      ]
     },
     "execution_count": 8,
     "metadata": {},
     "output_type": "execute_result"
    }
   ],
   "source": [
    "data['first_day_exposition'].head()\n",
    "data['first_day_exposition'] = pd.to_datetime(data['first_day_exposition'], format='%Y-%m-%dT%H:%M:%S')\n",
    "data['first_day_exposition'].describe(datetime_is_numeric=True)"
   ]
  },
  {
   "cell_type": "code",
   "execution_count": 9,
   "metadata": {},
   "outputs": [
    {
     "data": {
      "text/plain": [
       "1     8233\n",
       "2     7924\n",
       "3     5797\n",
       "4     1175\n",
       "5      326\n",
       "6      105\n",
       "7       59\n",
       "8       12\n",
       "9        8\n",
       "10       3\n",
       "11       2\n",
       "14       2\n",
       "16       1\n",
       "19       1\n",
       "12       1\n",
       "15       1\n",
       "Name: rooms, dtype: int64"
      ]
     },
     "execution_count": 9,
     "metadata": {},
     "output_type": "execute_result"
    },
    {
     "data": {
      "image/png": "[encoded data removed]",
      "text/plain": [
       "<Figure size 432x288 with 1 Axes>"
      ]
     },
     "metadata": {
      "needs_background": "light"
     },
     "output_type": "display_data"
    }
   ],
   "source": [
    "data['rooms'].value_counts()\n",
    "data['rooms'].hist(bins=20)\n",
    "plt.title('Гистограмма количества комнат в квартирах')\n",
    "len(data[data['rooms'] == 0])\n",
    "data.loc[data['rooms'] == 0, 'rooms'] = 1\n",
    "data['rooms'].value_counts()"
   ]
  },
  {
   "cell_type": "markdown",
   "metadata": {},
   "source": [
    "<div class=\"alert alert-block alert-success\">\n",
    " \n",
    "# Комментарий ревьюера ver.2\n",
    "    \n",
    "#### Успех\n",
    "    \n",
    "По замене пропуска логично вышло"
   ]
  },
  {
   "cell_type": "code",
   "execution_count": 10,
   "metadata": {},
   "outputs": [
    {
     "data": {
      "text/plain": [
       "Text(0.5, 1.0, 'Гистограмма высоты потолков')"
      ]
     },
     "execution_count": 10,
     "metadata": {},
     "output_type": "execute_result"
    },
    {
     "data": {
      "image/png": "[encoded data removed]",
      "text/plain": [
       "<Figure size 432x288 with 1 Axes>"
      ]
     },
     "metadata": {
      "needs_background": "light"
     },
     "output_type": "display_data"
    }
   ],
   "source": [
    "data['ceiling_height'].describe()\n",
    "data['ceiling_height'].hist(bins=50)\n",
    "plt.title('Гистограмма высоты потолков')"
   ]
  },
  {
   "cell_type": "code",
   "execution_count": 12,
   "metadata": {},
   "outputs": [
    {
     "data": {
      "text/plain": [
       "<AxesSubplot:>"
      ]
     },
     "execution_count": 12,
     "metadata": {},
     "output_type": "execute_result"
    },
    {
     "data": {
      "image/png": "[encoded data removed]",
      "text/plain": [
       "<Figure size 432x288 with 1 Axes>"
      ]
     },
     "metadata": {
      "needs_background": "light"
     },
     "output_type": "display_data"
    }
   ],
   "source": [
    "data.query('ceiling_height < 5')['ceiling_height'].hist(bins=50)"
   ]
  },
  {
   "cell_type": "code",
   "execution_count": 13,
   "metadata": {},
   "outputs": [
    {
     "data": {
      "text/plain": [
       "<AxesSubplot:>"
      ]
     },
     "execution_count": 13,
     "metadata": {},
     "output_type": "execute_result"
    },
    {
     "data": {
      "image/png": "[encoded data removed]",
      "text/plain": [
       "<Figure size 432x288 with 1 Axes>"
      ]
     },
     "metadata": {
      "needs_background": "light"
     },
     "output_type": "display_data"
    }
   ],
   "source": [
    "data.query('ceiling_height > 5')['ceiling_height'].hist(bins=50)"
   ]
  },
  {
   "cell_type": "code",
   "execution_count": 14,
   "metadata": {},
   "outputs": [
    {
     "data": {
      "text/plain": [
       "Text(0.5, 1.0, 'Гистограмма высоты потолков после корректировки')"
      ]
     },
     "execution_count": 14,
     "metadata": {},
     "output_type": "execute_result"
    },
    {
     "data": {
      "image/png": "[encoded data removed]",
      "text/plain": [
       "<Figure size 432x288 with 1 Axes>"
      ]
     },
     "metadata": {
      "needs_background": "light"
     },
     "output_type": "display_data"
    }
   ],
   "source": [
    "len(data.query('ceiling_height < 2.5 or ceiling_height > 5'))\n",
    "data.loc[data['ceiling_height'] >= 25, 'ceiling_height'] /= 10\n",
    "data.query('5 < ceiling_height < 40')['ceiling_height'].hist(bins=50)\n",
    "data = data.query('2.5 <= ceiling_height < 7.5 or ceiling_height.isnull()').reset_index(drop=True)\n",
    "data['ceiling_height'].hist()\n",
    "plt.title('Гистограмма высоты потолков после корректировки')\n",
    "\n",
    "#Очевидно, что потолки выше 2.5-3 метров-это достаточно редкое явление, поэтому необходимо брать 2.5 метра в качестве отправной точки.\n",
    "#Все, что выше 2.5 метров мы делим на 10, так как при заполнении данных люди могли потерять разделяющий знак (точку или запятую)"
   ]
  },
  {
   "cell_type": "markdown",
   "metadata": {},
   "source": [
    "<div class=\"alert alert-block alert-danger\">\n",
    " \n",
    "# Комментарий ревьюера ver.2\n",
    "    \n",
    "#### Ошибка\n",
    "    \n",
    "По твоей работе не хватает пояснений того, почему ты обрабатываешь значения именно так. "
   ]
  },
  {
   "cell_type": "markdown",
   "metadata": {},
   "source": [
    "<div class=\"alert alert-block alert-warning\">\n",
    " \n",
    "# Комментарий ревьюера ver.3\n",
    "    \n",
    "#### Совет\n",
    "\n",
    "Вот так хорошо. Старайся текст к работе оформлять в отдельных ячейках используя синтаксис Маркдаун. "
   ]
  },
  {
   "cell_type": "code",
   "execution_count": 15,
   "metadata": {},
   "outputs": [
    {
     "data": {
      "text/plain": [
       "0        16\n",
       "1        11\n",
       "2         5\n",
       "3        14\n",
       "4        14\n",
       "         ..\n",
       "23477     5\n",
       "23478     5\n",
       "23479     3\n",
       "23480    17\n",
       "23481     5\n",
       "Name: floors_total, Length: 23482, dtype: int64"
      ]
     },
     "execution_count": 15,
     "metadata": {},
     "output_type": "execute_result"
    }
   ],
   "source": [
    "data['floors_total'].value_counts()\n",
    "data.query('floors_total.isnull()')\n",
    "data.dropna(subset=['floors_total'], inplace=True)\n",
    "data = data.reset_index(drop=True)\n",
    "data['floors_total'] = data['floors_total'].astype('int')\n",
    "data['floors_total']\n",
    "#Удаляем данные, в которых неизвестно общее число этажей, так как это будет серьезно мешать дальнейшему исследованию (невозможно будет оценить влияние этажа на стоимость недвижимости)\n"
   ]
  },
  {
   "cell_type": "markdown",
   "metadata": {},
   "source": [
    "<div class=\"alert alert-block alert-success\">\n",
    " \n",
    "# Комментарий ревьюера ver.2\n",
    "    \n",
    "#### Успех\n",
    "    \n",
    "Пропусков мало и можем их удалить. Согласен "
   ]
  },
  {
   "cell_type": "code",
   "execution_count": 16,
   "metadata": {},
   "outputs": [
    {
     "data": {
      "text/plain": [
       "0        False\n",
       "1        False\n",
       "2        False\n",
       "3        False\n",
       "4        False\n",
       "         ...  \n",
       "23477    False\n",
       "23478    False\n",
       "23479    False\n",
       "23480    False\n",
       "23481    False\n",
       "Name: is_apartment, Length: 23482, dtype: bool"
      ]
     },
     "execution_count": 16,
     "metadata": {},
     "output_type": "execute_result"
    }
   ],
   "source": [
    "data['is_apartment'].value_counts()\n",
    "data['is_apartment'] = data['is_apartment'].fillna(False)\n",
    "data['is_apartment'].value_counts()\n",
    "data['is_apartment'] = data['is_apartment'].astype('bool')\n",
    "data['is_apartment']\n",
    "\n",
    "#Заполняем пропуски столбца на False, так как, на мой взгляд, людей, указавших, что их квартира действительно является апартаментами, больше, чем противоположных"
   ]
  },
  {
   "cell_type": "code",
   "execution_count": 17,
   "metadata": {},
   "outputs": [
    {
     "data": {
      "text/plain": [
       "False    23336\n",
       "True       146\n",
       "Name: studio, dtype: int64"
      ]
     },
     "execution_count": 17,
     "metadata": {},
     "output_type": "execute_result"
    }
   ],
   "source": [
    "data['studio'].value_counts()"
   ]
  },
  {
   "cell_type": "code",
   "execution_count": 18,
   "metadata": {},
   "outputs": [
    {
     "data": {
      "text/plain": [
       "False    23415\n",
       "True        67\n",
       "Name: open_plan, dtype: int64"
      ]
     },
     "execution_count": 18,
     "metadata": {},
     "output_type": "execute_result"
    }
   ],
   "source": [
    "data['open_plan'].value_counts()"
   ]
  },
  {
   "cell_type": "code",
   "execution_count": 19,
   "metadata": {},
   "outputs": [
    {
     "data": {
      "text/plain": [
       "Санкт-Петербург                          15610\n",
       "посёлок Мурино                             520\n",
       "посёлок Шушары                             439\n",
       "Всеволожск                                 397\n",
       "Пушкин                                     366\n",
       "                                         ...  \n",
       "поселок городского типа Большая Ижора        1\n",
       "посёлок Белоостров                           1\n",
       "поселок Перово                               1\n",
       "садовое товарищество Новая Ропша             1\n",
       "деревня Сижно                                1\n",
       "Name: locality_name, Length: 363, dtype: int64"
      ]
     },
     "execution_count": 19,
     "metadata": {},
     "output_type": "execute_result"
    }
   ],
   "source": [
    "data['locality_name'].value_counts()"
   ]
  },
  {
   "cell_type": "code",
   "execution_count": 20,
   "metadata": {},
   "outputs": [
    {
     "data": {
      "text/plain": [
       "count    17990.000000\n",
       "mean     28802.330128\n",
       "std      12633.413235\n",
       "min          0.000000\n",
       "25%      18573.000000\n",
       "50%      26757.500000\n",
       "75%      37284.000000\n",
       "max      84869.000000\n",
       "Name: airports_nearest, dtype: float64"
      ]
     },
     "execution_count": 20,
     "metadata": {},
     "output_type": "execute_result"
    }
   ],
   "source": [
    "data['airports_nearest'].describe()"
   ]
  },
  {
   "cell_type": "code",
   "execution_count": 21,
   "metadata": {},
   "outputs": [
    {
     "data": {
      "text/plain": [
       "count    18013.000000\n",
       "mean     14189.721312\n",
       "std       8614.087279\n",
       "min        181.000000\n",
       "25%       9238.000000\n",
       "50%      13095.000000\n",
       "75%      16285.000000\n",
       "max      65968.000000\n",
       "Name: city_сenters_nearest, dtype: float64"
      ]
     },
     "execution_count": 21,
     "metadata": {},
     "output_type": "execute_result"
    }
   ],
   "source": [
    "data['city_сenters_nearest'].describe()"
   ]
  },
  {
   "cell_type": "code",
   "execution_count": 22,
   "metadata": {},
   "outputs": [
    {
     "data": {
      "text/plain": [
       "array(['Санкт-Петербург', 'поселок Шушары', 'городской поселок Янино-1',\n",
       "       'поселок Парголово', 'поселок Мурино', 'Ломоносов', 'Сертолово',\n",
       "       'Петергоф', 'Пушкин', 'деревня Кудрово', 'Коммунар', 'Колпино',\n",
       "       'поселок городского типа Красный Бор', 'Гатчина',\n",
       "       'деревня Федоровское', 'Выборг', 'Кронштадт', 'Кировск',\n",
       "       'деревня Новое Девяткино', 'поселок Металлострой',\n",
       "       'поселок городского типа Лебяжье',\n",
       "       'поселок городского типа Сиверский', 'поселок Молодцово',\n",
       "       'поселок городского типа Кузьмоловский',\n",
       "       'садовое товарищество Новая Ропша', 'Павловск',\n",
       "       'деревня Пикколово', 'Всеволожск', 'Волхов', 'Кингисепп',\n",
       "       'Приозерск', 'Сестрорецк', 'деревня Куттузи', 'поселок Аннино',\n",
       "       'поселок городского типа Ефимовский', 'поселок Плодовое',\n",
       "       'деревня Заклинье', 'поселок Торковичи', 'поселок Первомайское',\n",
       "       'Красное Село', 'поселок Понтонный', 'Сясьстрой', 'деревня Старая',\n",
       "       'деревня Лесколово', 'Сланцы', 'село Путилово', 'Ивангород',\n",
       "       'Мурино', 'Шлиссельбург', 'Никольское', 'Зеленогорск',\n",
       "       'Сосновый Бор', 'поселок Новый Свет', 'деревня Оржицы',\n",
       "       'деревня Кальтино', 'Кудрово', 'поселок Романовка',\n",
       "       'поселок Бугры', 'поселок городского типа Рощино', 'Кириши',\n",
       "       'Луга', 'Волосово', 'Отрадное', 'село Павлово', 'поселок Оредеж',\n",
       "       'село Копорье', 'поселок Молодежное', 'Тихвин', 'поселок Победа',\n",
       "       'деревня Нурма', 'поселок городского типа Синявино', 'Тосно',\n",
       "       'поселок Стрельна', 'Бокситогорск', 'поселок Александровская',\n",
       "       'деревня Лопухинка', 'Пикалево', 'поселок Терволово',\n",
       "       'поселок городского типа Советский', 'Подпорожье',\n",
       "       'поселок Петровское', 'поселок городского типа Токсово',\n",
       "       'поселок Сельцо', 'поселок городского типа Вырица',\n",
       "       'деревня Кипень', 'деревня Келози', 'деревня Вартемяги',\n",
       "       'поселок Тельмана', 'поселок Севастьяново',\n",
       "       'городской поселок Большая Ижора', 'городской поселок Павлово',\n",
       "       'деревня Агалатово', 'поселок Новогорелово',\n",
       "       'городской поселок Лесогорский', 'деревня Лаголово',\n",
       "       'поселок Цвелодубово', 'поселок городского типа Рахья',\n",
       "       'деревня Белогорка', 'поселок Заводской',\n",
       "       'городской поселок Новоселье', 'деревня Большие Колпаны',\n",
       "       'деревня Горбунки', 'деревня Батово', 'деревня Заневка',\n",
       "       'деревня Иссад', 'Приморск', 'городской поселок Федоровское',\n",
       "       'деревня Мистолово', 'Новая Ладога', 'поселок Зимитицы',\n",
       "       'поселок Барышево', 'деревня Разметелево',\n",
       "       'поселок городского типа имени Свердлова', 'деревня Пеники',\n",
       "       'поселок Рябово', 'деревня Пудомяги', 'поселок станции Корнево',\n",
       "       'деревня Низино', 'деревня Бегуницы', 'поселок Поляны',\n",
       "       'городской поселок Мга', 'поселок Елизаветино',\n",
       "       'поселок городского типа Кузнечное', 'деревня Колтуши',\n",
       "       'поселок Запорожское', 'деревня Гостилицы',\n",
       "       'деревня Малое Карлино', 'поселок Мичуринское',\n",
       "       'поселок городского типа имени Морозова', 'поселок Песочный',\n",
       "       'поселок Сосново', 'деревня Аро', 'поселок Ильичево',\n",
       "       'поселок городского типа Тайцы', 'деревня Малое Верево',\n",
       "       'деревня Извара', 'поселок станции Вещево', 'село Паша',\n",
       "       'деревня Калитино', 'поселок городского типа Ульяновка',\n",
       "       'деревня Чудской Бор', 'поселок городского типа Дубровка',\n",
       "       'деревня Мины', 'поселок Войсковицы', 'деревня Коркино',\n",
       "       'поселок Ропша', 'поселок городского типа Приладожский',\n",
       "       'поселок Щеглово', 'поселок Гаврилово', 'Лодейное Поле',\n",
       "       'деревня Рабитицы', 'поселок городского типа Никольский',\n",
       "       'деревня Кузьмолово', 'деревня Малые Колпаны',\n",
       "       'поселок Петро-Славянка', 'городской поселок Назия',\n",
       "       'поселок Репино', 'поселок Углово', 'поселок Старая Малукса',\n",
       "       'садовое товарищество Рахья', 'деревня Меньково',\n",
       "       'деревня Старые Бегуницы', 'поселок Саперный', 'поселок Семрино',\n",
       "       'поселок Глажево', 'поселок Кобринское', 'деревня Гарболово',\n",
       "       'деревня Юкки', 'поселок станции Приветнинское',\n",
       "       'деревня Мануйлово', 'деревня Пчева', 'поселок Цвылево',\n",
       "       'поселок Мельниково', 'поселок Пудость', 'поселок Усть-Луга',\n",
       "       'Светогорск', 'Любань', 'поселок Селезнево',\n",
       "       'поселок городского типа Рябово', 'Каменногорск', 'деревня Кривко',\n",
       "       'поселок Глебычево', 'деревня Парицы', 'поселок Жилпоселок',\n",
       "       'поселок городского типа Мга', 'поселок Войскорово',\n",
       "       'село Никольское', 'поселок Стеклянный',\n",
       "       'поселок городского типа Важины', 'поселок Мыза-Ивановка',\n",
       "       'село Русско-Высоцкое', 'поселок городского типа Форносово',\n",
       "       'село Старая Ладога', 'поселок Житково',\n",
       "       'городской поселок Виллози', 'деревня Лампово',\n",
       "       'деревня Шпаньково', 'деревня Лаврики', 'поселок Сумино',\n",
       "       'поселок Возрождение', 'деревня Старосиверская',\n",
       "       'поселок Кикерино', 'деревня Старое Хинколово',\n",
       "       'поселок Пригородный', 'поселок Торфяное',\n",
       "       'городской поселок Будогощь', 'поселок Суходолье',\n",
       "       'поселок Красная Долина', 'деревня Хапо-Ое',\n",
       "       'поселок городского типа Дружная Горка', 'поселок Лисий Нос',\n",
       "       'деревня Яльгелево', 'село Рождествено', 'деревня Старополье',\n",
       "       'поселок Левашово', 'деревня Сяськелево', 'деревня Камышовка',\n",
       "       'садоводческое некоммерческое товарищество Лесная Поляна',\n",
       "       'деревня Хязельки', 'поселок Жилгородок',\n",
       "       'поселок городского типа Павлово', 'деревня Ялгино',\n",
       "       'поселок Новый Учхоз', 'городской поселок Рощино',\n",
       "       'поселок Гончарово', 'поселок Почап',\n",
       "       'поселок Платформа 69-й километр', 'поселок Каложицы',\n",
       "       'деревня Фалилеево', 'деревня Пельгора',\n",
       "       'поселок городского типа Лесогорский', 'деревня Торошковичи',\n",
       "       'поселок Белоостров', 'поселок Алексеевка', 'поселок Серебрянский',\n",
       "       'поселок Лукаши', 'деревня Щеглово', 'деревня Тарасово',\n",
       "       'поселок Кингисеппский',\n",
       "       'поселок при железнодорожной станции Вещево', 'поселок Ушаки',\n",
       "       'деревня Котлы', 'деревня Сижно', 'деревня Торосово',\n",
       "       'поселок Форт Красная Горка', 'деревня Новолисино',\n",
       "       'поселок станции Громово', 'деревня Глинка',\n",
       "       'поселок городского типа Назия', 'деревня Старая Пустошь',\n",
       "       'поселок Коммунары', 'поселок Починок',\n",
       "       'поселок городского типа Вознесенье', 'деревня Разбегаево',\n",
       "       'поселок Гладкое',\n",
       "       'поселок при железнодорожной станции Приветнинское',\n",
       "       'поселок Тесово-4', 'деревня Бор', 'поселок Коробицыно',\n",
       "       'деревня Большая Вруда', 'деревня Курковицы',\n",
       "       'городской поселок Советский', 'поселок Кобралово',\n",
       "       'деревня Суоранда', 'поселок городского типа Кондратьево',\n",
       "       'коттеджный поселок Счастье', 'поселок Любань', 'деревня Реброво',\n",
       "       'деревня Зимитицы', 'деревня Тойворово', 'поселок Семиозерье',\n",
       "       'поселок Лесное', 'поселок Совхозный', 'поселок Саперное',\n",
       "       'поселок Ленинское', 'поселок Суйда', 'деревня Нижние Осельки',\n",
       "       'поселок станции Свирь', 'поселок Перово', 'Высоцк',\n",
       "       'поселок Гарболово', 'село Шум', 'поселок Котельский',\n",
       "       'поселок станции Лужайка', 'деревня Большая Пустомержа',\n",
       "       'поселок Красносельское', 'деревня Вахнова Кара', 'деревня Пижма',\n",
       "       'коттеджный поселок Кивеннапа Север', 'поселок Ромашки',\n",
       "       'деревня Каськово', 'деревня Куровицы', 'поселок Плоское',\n",
       "       'поселок городского типа Большая Ижора', 'поселок Кирпичное',\n",
       "       'деревня Ям-Тесово', 'деревня Раздолье', 'деревня Терпилицы',\n",
       "       'поселок Шугозеро', 'деревня Ваганово', 'поселок Пушное',\n",
       "       'садовое товарищество Садко', 'поселок Усть-Ижора',\n",
       "       'деревня Выскатка', 'поселок Громово', 'деревня Кисельня',\n",
       "       'деревня Трубников Бор', 'поселок Калитино',\n",
       "       'поселок Высокоключевой', 'садовое товарищество Приладожский',\n",
       "       'поселок Пансионат Зеленый Бор', 'деревня Ненимяки',\n",
       "       'деревня Снегиревка', 'деревня Рапполово', 'деревня Пустынка',\n",
       "       'поселок Рабитицы', 'деревня Большой Сабск', 'деревня Русско',\n",
       "       'деревня Лупполово', 'деревня Большое Рейзино',\n",
       "       'деревня Малая Романовка', 'поселок Дружноселье', 'поселок Пчевжа',\n",
       "       'поселок Володарское', 'деревня Нижняя',\n",
       "       'коттеджный поселок Лесное', 'деревня Тихковицы',\n",
       "       'деревня Борисова Грива', 'поселок Дзержинского'], dtype=object)"
      ]
     },
     "execution_count": 22,
     "metadata": {},
     "output_type": "execute_result"
    }
   ],
   "source": [
    "data.dropna(subset=['locality_name'], inplace=True)\n",
    "data = data.reset_index(drop=True)\n",
    "len(data['locality_name'].unique())\n",
    "data['locality_name'].unique()\n",
    "data['locality_name'] = data['locality_name'].str.replace('ё', 'е')\n",
    "len(data['locality_name'].unique())\n",
    "data['locality_name'].isna().sum()\n",
    "data = data.dropna(subset=['locality_name'])\n",
    "data['locality_name'].unique()"
   ]
  },
  {
   "cell_type": "markdown",
   "metadata": {},
   "source": [
    "<div class=\"alert alert-block alert-danger\">\n",
    " \n",
    "# Комментарий ревьюера ver.2\n",
    "    \n",
    "#### Ошибка\n",
    "    \n",
    "В данном случае правильно было бы вывести сколько у нас осталось уникальных  значений названий.\n",
    "    \n",
    "    \n",
    "А еще по заданию в этом месте заканчивается Предобработка. Надо бы промежуточный вывод добавить. \n",
    "    "
   ]
  },
  {
   "cell_type": "code",
   "execution_count": 23,
   "metadata": {},
   "outputs": [
    {
     "data": {
      "text/plain": [
       "0        120370.37\n",
       "1         82920.79\n",
       "2         92785.71\n",
       "3        408176.10\n",
       "4        100000.00\n",
       "           ...    \n",
       "23477     72490.85\n",
       "23478     52542.37\n",
       "23479     44091.71\n",
       "23480    149511.40\n",
       "23481     41795.67\n",
       "Name: m2_cost, Length: 23482, dtype: float64"
      ]
     },
     "execution_count": 23,
     "metadata": {},
     "output_type": "execute_result"
    }
   ],
   "source": [
    "data['m2_cost'] = (data['last_price'] / data['total_area']).round(2)\n",
    "data['m2_cost']"
   ]
  },
  {
   "cell_type": "code",
   "execution_count": 11,
   "metadata": {},
   "outputs": [],
   "source": [
    "data['weekday'] = data['first_day_exposition'].dt.weekday.astype('int32')\n",
    "data['month'] = data['first_day_exposition'].dt.month.astype('int32')\n",
    "data['year'] = data['first_day_exposition'].dt.year.astype('int32')"
   ]
  },
  {
   "cell_type": "code",
   "execution_count": 25,
   "metadata": {},
   "outputs": [],
   "source": [
    "data['floor_category'] = data.apply(lambda row: \n",
    "    'первый' if row['floor'] == 1 \n",
    "    else 'последний' if row['floor']==row['floors_total']\n",
    "    else 'другой', axis=1)"
   ]
  },
  {
   "cell_type": "code",
   "execution_count": 26,
   "metadata": {
    "scrolled": true
   },
   "outputs": [
    {
     "data": {
      "text/plain": [
       "0     16\n",
       "1     18\n",
       "2     13\n",
       "3      6\n",
       "4      8\n",
       "5      0\n",
       "6     19\n",
       "7     11\n",
       "8      0\n",
       "9     15\n",
       "10    13\n",
       "11    51\n",
       "12     0\n",
       "13    33\n",
       "14    30\n",
       "15    14\n",
       "16    10\n",
       "17    14\n",
       "18    10\n",
       "19    12\n",
       "20    19\n",
       "21     9\n",
       "22     0\n",
       "23    14\n",
       "24     2\n",
       "25    14\n",
       "26    10\n",
       "27    11\n",
       "28    30\n",
       "29    11\n",
       "30     0\n",
       "31    12\n",
       "32    12\n",
       "33    32\n",
       "34    12\n",
       "35     3\n",
       "36    16\n",
       "37     0\n",
       "38     0\n",
       "39    12\n",
       "40    19\n",
       "41    12\n",
       "42    30\n",
       "43    10\n",
       "44    11\n",
       "45    12\n",
       "46    12\n",
       "47     0\n",
       "48    16\n",
       "49    16\n",
       "Name: city_сenters_nearest_km, dtype: int64"
      ]
     },
     "execution_count": 26,
     "metadata": {},
     "output_type": "execute_result"
    }
   ],
   "source": [
    "data['city_сenters_nearest_km'] = data['city_сenters_nearest'].div(1000)\n",
    "data['city_сenters_nearest_km'] = data['city_сenters_nearest_km'].fillna(0)\n",
    "data['city_сenters_nearest_km'] = data['city_сenters_nearest_km'].astype('int') \n",
    "data['city_сenters_nearest_km'].head(50)"
   ]
  },
  {
   "cell_type": "code",
   "execution_count": 27,
   "metadata": {},
   "outputs": [],
   "source": [
    "def get_floor_category(row):\n",
    "    if row['floor'] == 1:\n",
    "        if row['floor'] == row['floors_total']:\n",
    "            return 'другой'\n",
    "        \n",
    "        return 'первый'\n",
    "    if row['floor'] == row['floors_total']:\n",
    "        return 'последний'\n",
    "    \n",
    "    return 'другой'\n",
    "data['floor_category'] = data.apply(get_floor_category, axis=1)\n"
   ]
  },
  {
   "cell_type": "markdown",
   "metadata": {},
   "source": [
    "<div class=\"alert alert-block alert-success\">\n",
    " \n",
    "# Комментарий ревьюера ver.2\n",
    "    \n",
    "#### Успех\n",
    "    \n",
    "Вышла хорошая функция категоризации"
   ]
  },
  {
   "cell_type": "code",
   "execution_count": 28,
   "metadata": {},
   "outputs": [
    {
     "data": {
      "text/plain": [
       "0        другой\n",
       "1        первый\n",
       "2        другой\n",
       "3        другой\n",
       "4        другой\n",
       "          ...  \n",
       "23477    другой\n",
       "23478    другой\n",
       "23479    первый\n",
       "23480    другой\n",
       "23481    первый\n",
       "Name: floor_category, Length: 23482, dtype: object"
      ]
     },
     "execution_count": 28,
     "metadata": {},
     "output_type": "execute_result"
    }
   ],
   "source": [
    "unique_types = list(data['floor_category'].unique())\n",
    "def get_floor_type_number(type):\n",
    "    return unique_types.index(type)\n",
    "data.loc[:, 'floor_category']"
   ]
  },
  {
   "cell_type": "markdown",
   "metadata": {},
   "source": [
    "<div class=\"alert alert-block alert-danger\">\n",
    " \n",
    "# Комментарий ревьюера ver.2\n",
    "    \n",
    "#### Ошибка\n",
    "    \n",
    "При работе кода упала ошибка. Увы:("
   ]
  },
  {
   "cell_type": "markdown",
   "metadata": {},
   "source": [
    "<div class=\"alert alert-block alert-success\">\n",
    " \n",
    "# Комментарий ревьюера ver.3\n",
    "    \n",
    "#### Успех\n",
    "\n",
    "Исправлено"
   ]
  },
  {
   "cell_type": "code",
   "execution_count": 29,
   "metadata": {},
   "outputs": [],
   "source": [
    "#В целом, основной причиной отсутствия каких-либо данных является нежелание опрошенных людей заполнять их. Некоторые данные можно заполнить: например, если в столбце \"balcony\" стоит значение NaN, то можно его заменить на 0, то есть отсутствие балкона.\n",
    "#Созданы новые столбцы, расстояние от центра переведено в километры, найдено значение цены квадратного метра.  \n",
    "#Убраны неявные дубликаты в названиях населенных пунктов посредством замены буквы Ё на Е. \n",
    "#Переименовано 3 столбца, убраны аномалии в столбце \"высота потолков\"\n",
    "#Дата переведена в удобный формат, добавлены столбцы с днем, месяцем, годом подачи объявления\n",
    "#Написана функция для возврата типа этажа (первый, последний, другой)\n",
    "#Заполнены пропуски в столбце \"is_apartment\". Если было NaN, то стало False, хотя это немного некорректно, на мой взгляд.\n",
    "#Все остальные пропуски, к сожалению, заполнить невозможно, так как мы не знаем точных значений площадей комнат/квартир."
   ]
  },
  {
   "cell_type": "markdown",
   "metadata": {},
   "source": [
    "<div class=\"alert alert-block alert-danger\">\n",
    " \n",
    "### Комментарий ревьюера\n",
    "    \n",
    "#### Ошибка \n",
    "    \n",
    "Тут и далее, тот же самый принцип. Нельзя завосывать весь код в одну ячейку. А еще не увидел никаких промежуточных выводов + вывод по итогу раздела.  Нужно написать причины возникновения пропусков. "
   ]
  },
  {
   "cell_type": "markdown",
   "metadata": {},
   "source": [
    "<div class=\"alert alert-block alert-warning\">\n",
    " \n",
    "### Комментарий ревьюера\n",
    "    \n",
    "#### Совет\n",
    "    \n",
    "Для экономии вычислительной памяти лучше всго перевести в int32 "
   ]
  },
  {
   "cell_type": "markdown",
   "metadata": {},
   "source": [
    "<div class=\"alert alert-block alert-success\">\n",
    " \n",
    "### Комментарий ревьюера\n",
    "    \n",
    "#### Успех\n",
    "    \n",
    "В остальном с заменой пропусков хорошо получилось. "
   ]
  },
  {
   "cell_type": "markdown",
   "metadata": {},
   "source": [
    "<div class=\"alert alert-block alert-danger\">\n",
    " \n",
    "### Комментарий ревьюера\n",
    "    \n",
    "#### Ошибка\n",
    "    \n",
    "А надо было здесь еще оформить раздел с категоризаций значений по этаже и выводом временного промежутка, но ты добавил это в Исследовательский анализ. "
   ]
  },
  {
   "cell_type": "markdown",
   "metadata": {},
   "source": [
    "<div class=\"alert alert-block alert-success\">\n",
    " \n",
    "# Комментарий ревьюера ver.2\n",
    "    \n",
    "#### Успех\n",
    "    \n",
    "Стало лучше. Осталось пару замечаний исправить."
   ]
  },
  {
   "cell_type": "markdown",
   "metadata": {
    "id": "pPyxrKWTAwb-"
   },
   "source": [
    "### Проведите исследовательский анализ данных"
   ]
  },
  {
   "cell_type": "code",
   "execution_count": 30,
   "metadata": {},
   "outputs": [],
   "source": [
    "# Функция для получения столбца без аномалий (outliers)\n",
    "# column_name - Название столбца\n",
    "# возвращает - Датафрейм с удаленными аномалиями \n",
    "def delete_outliers(column_name):\n",
    "    iqr = 1.5 * (data[column_name].quantile(.75) - data[column_name].quantile(.25))\n",
    "    \n",
    "    maximum = data[column_name].quantile(.75) + iqr\n",
    "    minimum = data[column_name].quantile(.25) - iqr\n",
    "    \n",
    "    return data[(minimum <= data[column_name]) & (data[column_name] <= maximum)][column_name]\n",
    "def count_outliers(column_name):\n",
    "    iqr = 1.5 * (data[column_name].quantile(.75) - data[column_name].quantile(.25))\n",
    "    \n",
    "    maximum = data[column_name].quantile(.75) + iqr\n",
    "    print('Максимум -', maximum)\n",
    "    \n",
    "    minimum = data[column_name].quantile(.25) - iqr\n",
    "    print('Минимум -', minimum)\n",
    "    \n",
    "    outliers = len(data.query(column_name + ' < @minimum or ' + column_name + ' > @maximum'))\n",
    "    \n",
    "    print('Количество аутлаеров - {} ({:.2%})'.format(outliers, outliers / len(data.query('~' + column_name + '.isnull()'))))"
   ]
  },
  {
   "cell_type": "code",
   "execution_count": 31,
   "metadata": {},
   "outputs": [
    {
     "data": {
      "text/plain": [
       "<AxesSubplot:>"
      ]
     },
     "execution_count": 31,
     "metadata": {},
     "output_type": "execute_result"
    },
    {
     "data": {
      "image/png": "[encoded data removed]",
      "text/plain": [
       "<Figure size 432x288 with 1 Axes>"
      ]
     },
     "metadata": {
      "needs_background": "light"
     },
     "output_type": "display_data"
    }
   ],
   "source": [
    "data['total_images'] = delete_outliers('total_images')\n",
    "data['total_images'].hist(bins=50)"
   ]
  },
  {
   "cell_type": "code",
   "execution_count": 32,
   "metadata": {},
   "outputs": [
    {
     "name": "stdout",
     "output_type": "stream",
     "text": [
      "Максимум - 26.0\n",
      "Минимум - -6.0\n",
      "Количество аутлаеров - 0 (0.00%)\n"
     ]
    },
    {
     "data": {
      "text/plain": [
       "Text(0.5, 1.0, 'Гистограмма total_images')"
      ]
     },
     "execution_count": 32,
     "metadata": {},
     "output_type": "execute_result"
    },
    {
     "data": {
      "image/png": "[encoded data removed]",
      "text/plain": [
       "<Figure size 432x288 with 1 Axes>"
      ]
     },
     "metadata": {
      "needs_background": "light"
     },
     "output_type": "display_data"
    }
   ],
   "source": [
    "count_outliers('total_images')\n",
    "delete_outliers('total_images')\n",
    "data['total_images'].describe()\n",
    "data['total_images'].hist(bins=50)\n",
    "plt.title('Гистограмма total_images')"
   ]
  },
  {
   "cell_type": "code",
   "execution_count": 33,
   "metadata": {},
   "outputs": [
    {
     "data": {
      "text/plain": [
       "Text(0.5, 1.0, 'Гистограмма высоты потолков')"
      ]
     },
     "execution_count": 33,
     "metadata": {},
     "output_type": "execute_result"
    },
    {
     "data": {
      "image/png": "[encoded data removed]",
      "text/plain": [
       "<Figure size 432x288 with 1 Axes>"
      ]
     },
     "metadata": {
      "needs_background": "light"
     },
     "output_type": "display_data"
    }
   ],
   "source": [
    "data['ceiling_height'].describe()\n",
    "data['ceiling_height'].hist(bins=60)\n",
    "plt.title('Гистограмма высоты потолков')"
   ]
  },
  {
   "cell_type": "code",
   "execution_count": 34,
   "metadata": {},
   "outputs": [
    {
     "data": {
      "text/plain": [
       "Text(0.5, 1.0, 'Гистограмма длительности объявлений')"
      ]
     },
     "execution_count": 34,
     "metadata": {},
     "output_type": "execute_result"
    },
    {
     "data": {
      "image/png": "[encoded data removed]",
      "text/plain": [
       "<Figure size 1080x720 with 1 Axes>"
      ]
     },
     "metadata": {
      "needs_background": "light"
     },
     "output_type": "display_data"
    }
   ],
   "source": [
    "data['days_exposition'].describe()\n",
    "data['days_exposition'].hist(bins=160, figsize=(15, 10))\n",
    "plt.title('Гистограмма длительности объявлений')"
   ]
  },
  {
   "cell_type": "markdown",
   "metadata": {},
   "source": [
    "<div class=\"alert alert-block alert-danger\">\n",
    " \n",
    "# Комментарий ревьюера ver.2\n",
    "    \n",
    "#### Ошибка\n",
    "    \n",
    "Если отображаешь несколько параметров на графике, то выводи на него легенды. Так будет понятно что ты показываешь\n",
    "    \n",
    "А где несколько параметров, у меня нет таких графиков"
   ]
  },
  {
   "cell_type": "code",
   "execution_count": 35,
   "metadata": {},
   "outputs": [
    {
     "data": {
      "text/plain": [
       "Text(0.5, 1.0, 'Гистограмма длительности объявлений до 200 дней')"
      ]
     },
     "execution_count": 35,
     "metadata": {},
     "output_type": "execute_result"
    },
    {
     "data": {
      "image/png": "[encoded data removed]",
      "text/plain": [
       "<Figure size 1080x720 with 1 Axes>"
      ]
     },
     "metadata": {
      "needs_background": "light"
     },
     "output_type": "display_data"
    }
   ],
   "source": [
    "data.query('days_exposition < 200')['days_exposition'].hist(bins=160, figsize=(15, 10))\n",
    "plt.title('Гистограмма длительности объявлений до 200 дней')"
   ]
  },
  {
   "cell_type": "code",
   "execution_count": 36,
   "metadata": {},
   "outputs": [
    {
     "data": {
      "text/plain": [
       "Text(0.5, 1.0, 'Гистограмма длительности объявлений до 100 дней')"
      ]
     },
     "execution_count": 36,
     "metadata": {},
     "output_type": "execute_result"
    },
    {
     "data": {
      "image/png": "[encoded data removed]",
      "text/plain": [
       "<Figure size 1080x720 with 1 Axes>"
      ]
     },
     "metadata": {
      "needs_background": "light"
     },
     "output_type": "display_data"
    }
   ],
   "source": [
    "data.query('days_exposition < 100')['days_exposition'].hist(bins=160, figsize=(15, 10))\n",
    "plt.title('Гистограмма длительности объявлений до 100 дней')"
   ]
  },
  {
   "cell_type": "markdown",
   "metadata": {},
   "source": [
    "<div class=\"alert alert-block alert-success\">\n",
    " \n",
    "# Комментарий ревьюера ver.3\n",
    "    \n",
    "#### Успех\n",
    "\n",
    "Тут здорово. Спасибо за то, что показал выбивающиеся значения. Они появились не просто так. В эти дни система убирает с показа бесплатные объявления. "
   ]
  },
  {
   "cell_type": "code",
   "execution_count": 37,
   "metadata": {},
   "outputs": [
    {
     "name": "stdout",
     "output_type": "stream",
     "text": [
      "Среднее - 180.8\n",
      "Медиана - 95\n"
     ]
    }
   ],
   "source": [
    "print('Среднее - {:.1f}'.format(data['days_exposition'].mean()))\n",
    "print('Медиана - {:.0f}'.format(data['days_exposition'].median()))"
   ]
  },
  {
   "cell_type": "code",
   "execution_count": 38,
   "metadata": {},
   "outputs": [
    {
     "data": {
      "text/plain": [
       "Text(0.5, 1.0, 'Гистограмма площади кухни')"
      ]
     },
     "execution_count": 38,
     "metadata": {},
     "output_type": "execute_result"
    },
    {
     "data": {
      "image/png": "[encoded data removed]",
      "text/plain": [
       "<Figure size 1080x720 with 1 Axes>"
      ]
     },
     "metadata": {
      "needs_background": "light"
     },
     "output_type": "display_data"
    }
   ],
   "source": [
    "data['kitchen_area'].describe()\n",
    "data['kitchen_area'].hist(bins=409, figsize=(15, 10))\n",
    "plt.title('Гистограмма площади кухни')"
   ]
  },
  {
   "cell_type": "code",
   "execution_count": 39,
   "metadata": {},
   "outputs": [
    {
     "data": {
      "text/plain": [
       "<AxesSubplot:>"
      ]
     },
     "execution_count": 39,
     "metadata": {},
     "output_type": "execute_result"
    },
    {
     "data": {
      "image/png": "[encoded data removed]",
      "text/plain": [
       "<Figure size 432x288 with 1 Axes>"
      ]
     },
     "metadata": {
      "needs_background": "light"
     },
     "output_type": "display_data"
    }
   ],
   "source": [
    "data.query('kitchen_area <= 20')['kitchen_area'].hist(bins=200)"
   ]
  },
  {
   "cell_type": "code",
   "execution_count": 40,
   "metadata": {},
   "outputs": [
    {
     "data": {
      "text/plain": [
       "<AxesSubplot:>"
      ]
     },
     "execution_count": 40,
     "metadata": {},
     "output_type": "execute_result"
    },
    {
     "data": {
      "image/png": "[encoded data removed]",
      "text/plain": [
       "<Figure size 432x288 with 1 Axes>"
      ]
     },
     "metadata": {
      "needs_background": "light"
     },
     "output_type": "display_data"
    }
   ],
   "source": [
    "data.query('kitchen_area > 20')['living_area'].hist(bins=200)"
   ]
  },
  {
   "cell_type": "markdown",
   "metadata": {},
   "source": [
    "<div class=\"alert alert-block alert-danger\">\n",
    " \n",
    "# Комментарий ревьюера ver.2\n",
    "    \n",
    "#### Ошибка\n",
    "    \n",
    "Любые графики должны сопровождаться выводами. Мы же графики ради выводов и делаем. \n",
    "    \n",
    "Написал общие выводы здесь:\n",
    "    \n",
    "Площадь:\n",
    "\n",
    "Общая, жилая и кухня: Распределение данных близко к Пуассоновскому. Это логично, так как большинство квартир имеет небольшую площадь, а количество квартир с увеличением площади уменьшается. \n",
    "Жилая площадь: На гистограмме четко видны пики, соответствующие одно-, двух- и трехкомнатным квартирам.\n",
    "Общая площадь и кухня: Эти категории также прослеживаются на гистограммах, но не так ярко выражены.\n",
    "\n",
    "Цена:\n",
    "\n",
    "Распределение: Цены в основном распределены нормально до 100 миллионов, с \"хвостом\" до 800 миллионов. Это типично для рынка недвижимости, где есть большой сегмент обычных квартир и небольшой сегмент элитных.\n",
    "\n",
    "Количество комнат:\n",
    "\n",
    "Распределение: Близки к Пуассоновскому, с пиком в районе 1-3 комнат. Это объясняется наличием как стандартных квартир, так и элитного жилья.\n",
    "\n",
    "Высота потолка:\n",
    "\n",
    "Распределение: Напоминает Пуассоновское, но с четкими пиками в районе 2.7 и 3 метров. Вероятно, это обусловлено типовой застройкой."
   ]
  },
  {
   "cell_type": "markdown",
   "metadata": {},
   "source": [
    "<div class=\"alert alert-block alert-warning\">\n",
    " \n",
    "# Комментарий ревьюера ver.3\n",
    "    \n",
    "#### Совет\n",
    "\n",
    "Спасибо большое. В идеале под каждый график бы эти выводы разнести и будет хорошо прям."
   ]
  },
  {
   "cell_type": "code",
   "execution_count": 41,
   "metadata": {},
   "outputs": [
    {
     "data": {
      "text/plain": [
       "<AxesSubplot:>"
      ]
     },
     "execution_count": 41,
     "metadata": {},
     "output_type": "execute_result"
    },
    {
     "data": {
      "image/png": "[encoded data removed]",
      "text/plain": [
       "<Figure size 432x288 with 1 Axes>"
      ]
     },
     "metadata": {
      "needs_background": "light"
     },
     "output_type": "display_data"
    }
   ],
   "source": [
    "data.query('last_price <= 0.004e8')\n",
    "data = data.query('last_price > 0.004e8')\n",
    "len(data.query('last_price <= 0.004e8'))\n",
    "data.query('last_price > 1e8')['last_price'].hist(bins=100)"
   ]
  },
  {
   "cell_type": "code",
   "execution_count": 42,
   "metadata": {},
   "outputs": [
    {
     "data": {
      "text/plain": [
       "Text(0.5, 1.0, 'Гистограмма основной части данных столбца цены')"
      ]
     },
     "execution_count": 42,
     "metadata": {},
     "output_type": "execute_result"
    },
    {
     "data": {
      "image/png": "[encoded data removed]",
      "text/plain": [
       "<Figure size 1080x720 with 1 Axes>"
      ]
     },
     "metadata": {
      "needs_background": "light"
     },
     "output_type": "display_data"
    }
   ],
   "source": [
    "data.query('last_price <= 0.2e8')['last_price'].hist(bins=200, figsize=(15, 10))\n",
    "plt.title('Гистограмма основной части данных столбца цены')"
   ]
  },
  {
   "cell_type": "code",
   "execution_count": 43,
   "metadata": {},
   "outputs": [
    {
     "data": {
      "text/plain": [
       "Text(0.5, 1.0, 'Гистограмма количества комнат')"
      ]
     },
     "execution_count": 43,
     "metadata": {},
     "output_type": "execute_result"
    },
    {
     "data": {
      "image/png": "[encoded data removed]",
      "text/plain": [
       "<Figure size 432x288 with 1 Axes>"
      ]
     },
     "metadata": {
      "needs_background": "light"
     },
     "output_type": "display_data"
    }
   ],
   "source": [
    "data['rooms'].describe()\n",
    "data['rooms'].hist(bins=20)\n",
    "plt.title('Гистограмма количества комнат')"
   ]
  },
  {
   "cell_type": "code",
   "execution_count": 44,
   "metadata": {},
   "outputs": [
    {
     "data": {
      "text/plain": [
       "<AxesSubplot:>"
      ]
     },
     "execution_count": 44,
     "metadata": {},
     "output_type": "execute_result"
    },
    {
     "data": {
      "image/png": "[encoded data removed]",
      "text/plain": [
       "<Figure size 432x288 with 1 Axes>"
      ]
     },
     "metadata": {
      "needs_background": "light"
     },
     "output_type": "display_data"
    }
   ],
   "source": [
    "data.query('rooms <= 7')['rooms'].hist(bins=7)"
   ]
  },
  {
   "cell_type": "code",
   "execution_count": 45,
   "metadata": {},
   "outputs": [
    {
     "data": {
      "text/plain": [
       "<AxesSubplot:>"
      ]
     },
     "execution_count": 45,
     "metadata": {},
     "output_type": "execute_result"
    },
    {
     "data": {
      "image/png": "[encoded data removed]",
      "text/plain": [
       "<Figure size 432x288 with 1 Axes>"
      ]
     },
     "metadata": {
      "needs_background": "light"
     },
     "output_type": "display_data"
    }
   ],
   "source": [
    "data.query('rooms > 7')['rooms'].hist(bins=12)"
   ]
  },
  {
   "cell_type": "code",
   "execution_count": 46,
   "metadata": {},
   "outputs": [
    {
     "name": "stdout",
     "output_type": "stream",
     "text": [
      "Максимум - 114.75000000000001\n",
      "Минимум - -4.8500000000000085\n",
      "Количество аутлаеров - 1232 (5.25%)\n"
     ]
    },
    {
     "data": {
      "image/png": "[encoded data removed]",
      "text/plain": [
       "<Figure size 432x288 with 1 Axes>"
      ]
     },
     "metadata": {
      "needs_background": "light"
     },
     "output_type": "display_data"
    }
   ],
   "source": [
    "data['total_area'].describe()\n",
    "data['total_area'].hist(bins=900)\n",
    "count_outliers('total_area')"
   ]
  },
  {
   "cell_type": "code",
   "execution_count": 47,
   "metadata": {},
   "outputs": [
    {
     "name": "stdout",
     "output_type": "stream",
     "text": [
      "Максимум - 6.0\n",
      "Минимум - -2.0\n",
      "Количество аутлаеров - 90 (0.38%)\n"
     ]
    },
    {
     "data": {
      "image/png": "[encoded data removed]",
      "text/plain": [
       "<Figure size 432x288 with 1 Axes>"
      ]
     },
     "metadata": {
      "needs_background": "light"
     },
     "output_type": "display_data"
    }
   ],
   "source": [
    "data['rooms'].describe()\n",
    "data['rooms'].hist(bins=20)\n",
    "count_outliers('rooms')"
   ]
  },
  {
   "cell_type": "code",
   "execution_count": 48,
   "metadata": {},
   "outputs": [
    {
     "data": {
      "text/plain": [
       "<AxesSubplot:>"
      ]
     },
     "execution_count": 48,
     "metadata": {},
     "output_type": "execute_result"
    },
    {
     "data": {
      "image/png": "[encoded data removed]",
      "text/plain": [
       "<Figure size 432x288 with 1 Axes>"
      ]
     },
     "metadata": {
      "needs_background": "light"
     },
     "output_type": "display_data"
    }
   ],
   "source": [
    "data['rooms'] = delete_outliers('rooms')\n",
    "data['rooms'].hist(bins=6)"
   ]
  },
  {
   "cell_type": "markdown",
   "metadata": {},
   "source": [
    "<div class=\"alert alert-block alert-success\">\n",
    " \n",
    "# Комментарий ревьюера ver.2\n",
    "    \n",
    "#### Успех\n",
    "    \n",
    "Тут распределение соотносится логически с распределением по площади"
   ]
  },
  {
   "cell_type": "code",
   "execution_count": 49,
   "metadata": {},
   "outputs": [
    {
     "name": "stdout",
     "output_type": "stream",
     "text": [
      "Максимум - 3.2199999999999998\n",
      "Минимум - 2.1000000000000005\n",
      "Количество аутлаеров - 783 (5.44%)\n"
     ]
    },
    {
     "data": {
      "image/png": "[encoded data removed]",
      "text/plain": [
       "<Figure size 432x288 with 1 Axes>"
      ]
     },
     "metadata": {
      "needs_background": "light"
     },
     "output_type": "display_data"
    }
   ],
   "source": [
    "data['ceiling_height'].describe()\n",
    "data['ceiling_height'].hist(bins=6)\n",
    "count_outliers('ceiling_height')"
   ]
  },
  {
   "cell_type": "code",
   "execution_count": 50,
   "metadata": {
    "scrolled": true
   },
   "outputs": [
    {
     "name": "stdout",
     "output_type": "stream",
     "text": [
      "Максимум - 32.5\n",
      "Минимум - -11.5\n",
      "Количество аутлаеров - 31 (0.13%)\n"
     ]
    },
    {
     "data": {
      "image/png": "[encoded data removed]",
      "text/plain": [
       "<Figure size 432x288 with 1 Axes>"
      ]
     },
     "metadata": {
      "needs_background": "light"
     },
     "output_type": "display_data"
    }
   ],
   "source": [
    "data['floors_total'].describe()\n",
    "data['floors_total'].hist(bins=60)\n",
    "count_outliers('floors_total')\n",
    "data['floors_total'] = delete_outliers('floors_total')\n",
    " "
   ]
  },
  {
   "cell_type": "code",
   "execution_count": 51,
   "metadata": {},
   "outputs": [
    {
     "data": {
      "text/plain": [
       "<AxesSubplot:>"
      ]
     },
     "execution_count": 51,
     "metadata": {},
     "output_type": "execute_result"
    },
    {
     "data": {
      "image/png": "[encoded data removed]",
      "text/plain": [
       "<Figure size 432x288 with 1 Axes>"
      ]
     },
     "metadata": {
      "needs_background": "light"
     },
     "output_type": "display_data"
    }
   ],
   "source": [
    "data['floors_total'].hist(bins=30)"
   ]
  },
  {
   "cell_type": "markdown",
   "metadata": {},
   "source": [
    "<div class=\"alert alert-block alert-success\">\n",
    " \n",
    "# Комментарий ревьюера ver.2\n",
    "    \n",
    "#### Успех\n",
    "    \n",
    "По выбросам нам видно, что в данных достаточное количество квартир типовой застройки"
   ]
  },
  {
   "cell_type": "code",
   "execution_count": 52,
   "metadata": {},
   "outputs": [
    {
     "name": "stdout",
     "output_type": "stream",
     "text": [
      "Максимум - 77.85\n",
      "Минимум - -16.949999999999996\n",
      "Количество аутлаеров - 770 (3.56%)\n"
     ]
    },
    {
     "data": {
      "image/png": "[encoded data removed]",
      "text/plain": [
       "<Figure size 432x288 with 1 Axes>"
      ]
     },
     "metadata": {
      "needs_background": "light"
     },
     "output_type": "display_data"
    }
   ],
   "source": [
    "data['living_area'].describe()\n",
    "data['living_area'].hist(bins=409)\n",
    "count_outliers('living_area')"
   ]
  },
  {
   "cell_type": "code",
   "execution_count": 53,
   "metadata": {},
   "outputs": [
    {
     "name": "stdout",
     "output_type": "stream",
     "text": [
      "Максимум - 19.5\n",
      "Минимум - -0.5\n",
      "Количество аутлаеров - 1180 (5.55%)\n"
     ]
    },
    {
     "data": {
      "image/png": "[encoded data removed]",
      "text/plain": [
       "<Figure size 432x288 with 1 Axes>"
      ]
     },
     "metadata": {
      "needs_background": "light"
     },
     "output_type": "display_data"
    }
   ],
   "source": [
    "data['kitchen_area'].describe()\n",
    "data['kitchen_area'].hist(bins=112)\n",
    "count_outliers('kitchen_area')"
   ]
  },
  {
   "cell_type": "code",
   "execution_count": 54,
   "metadata": {},
   "outputs": [
    {
     "name": "stdout",
     "output_type": "stream",
     "text": [
      "Максимум - 26855.5\n",
      "Минимум - -1332.5\n",
      "Количество аутлаеров - 1715 (9.52%)\n"
     ]
    },
    {
     "data": {
      "image/png": "[encoded data removed]",
      "text/plain": [
       "<Figure size 432x288 with 1 Axes>"
      ]
     },
     "metadata": {
      "needs_background": "light"
     },
     "output_type": "display_data"
    }
   ],
   "source": [
    "data['city_сenters_nearest'].describe()\n",
    "data['city_сenters_nearest'].hist(bins=800)\n",
    "count_outliers('city_сenters_nearest')"
   ]
  },
  {
   "cell_type": "code",
   "execution_count": 55,
   "metadata": {},
   "outputs": [
    {
     "name": "stdout",
     "output_type": "stream",
     "text": [
      "Максимум - 2.5\n",
      "Минимум - -1.5\n",
      "Количество аутлаеров - 641 (3.56%)\n"
     ]
    },
    {
     "data": {
      "image/png": "[encoded data removed]",
      "text/plain": [
       "<Figure size 432x288 with 1 Axes>"
      ]
     },
     "metadata": {
      "needs_background": "light"
     },
     "output_type": "display_data"
    }
   ],
   "source": [
    "data['parks_around_3000'].describe()\n",
    "data['parks_around_3000'].hist(bins=100)\n",
    "count_outliers('parks_around_3000')"
   ]
  },
  {
   "cell_type": "code",
   "execution_count": 56,
   "metadata": {},
   "outputs": [
    {
     "data": {
      "text/plain": [
       "count      23481\n",
       "unique         3\n",
       "top       другой\n",
       "freq       17298\n",
       "Name: floor_category, dtype: object"
      ]
     },
     "execution_count": 56,
     "metadata": {},
     "output_type": "execute_result"
    }
   ],
   "source": [
    "data['floor_category'].describe()"
   ]
  },
  {
   "cell_type": "code",
   "execution_count": 57,
   "metadata": {},
   "outputs": [
    {
     "name": "stdout",
     "output_type": "stream",
     "text": [
      "Максимум - 510.0\n",
      "Минимум - -234.0\n",
      "Количество аутлаеров - 1665 (8.19%)\n"
     ]
    },
    {
     "data": {
      "image/png": "[encoded data removed]",
      "text/plain": [
       "<Figure size 432x288 with 1 Axes>"
      ]
     },
     "metadata": {
      "needs_background": "light"
     },
     "output_type": "display_data"
    }
   ],
   "source": [
    "data['days_exposition'].describe()\n",
    "data['days_exposition'].hist(bins=1580)\n",
    "count_outliers('days_exposition')"
   ]
  },
  {
   "cell_type": "code",
   "execution_count": 19,
   "metadata": {},
   "outputs": [
    {
     "data": {
      "text/plain": [
       "city_сenters_nearest   -0.206887\n",
       "ponds_nearest          -0.085193\n",
       "airports_nearest       -0.026366\n",
       "studio                 -0.025363\n",
       "parks_nearest          -0.016310\n",
       "open_plan              -0.008802\n",
       "floors_total           -0.006745\n",
       "balcony                 0.008526\n",
       "floor                   0.026770\n",
       "days_exposition         0.080937\n",
       "ceiling_height          0.085396\n",
       "total_images            0.104558\n",
       "parks_around_3000       0.150886\n",
       "ponds_around_3000       0.160243\n",
       "rooms                   0.365291\n",
       "kitchen_area            0.520233\n",
       "living_area             0.566517\n",
       "total_area              0.653743\n",
       "last_price              1.000000\n",
       "Name: last_price, dtype: float64"
      ]
     },
     "execution_count": 19,
     "metadata": {},
     "output_type": "execute_result"
    }
   ],
   "source": [
    "filtered_data = data.loc[:, 'total_images': 'days_exposition']\n",
    "filtered_data\n",
    "filtered_data.corr()['last_price'].sort_values()"
   ]
  },
  {
   "cell_type": "markdown",
   "metadata": {},
   "source": [
    "<div class=\"alert alert-block alert-danger\">\n",
    " \n",
    "# Комментарий ревьюера ver.2\n",
    "    \n",
    "#### Ошибка\n",
    "    \n",
    "Тут надо было сопоставить зависимость этих параметров от цены квартиры. "
   ]
  },
  {
   "cell_type": "markdown",
   "metadata": {},
   "source": [
    "<div class=\"alert alert-block alert-danger\">\n",
    " \n",
    "# Комментарий ревьюера ver.3\n",
    "    \n",
    "#### Ошибка\n",
    "\n",
    "Хорошо, но вот только для дня, месяца и года нет смысла считать корреляцию. У этих параметров нети линейной связи и вывод о зависимости стоит сделать только по графику. "
   ]
  },
  {
   "cell_type": "markdown",
   "metadata": {},
   "source": [
    "<div class=\"alert alert-block alert-success\">\n",
    " \n",
    "# Комментарий ревьюера ver.4\n",
    "    \n",
    "#### Успех\n",
    "    \n",
    "Исправлено"
   ]
  },
  {
   "cell_type": "code",
   "execution_count": 59,
   "metadata": {},
   "outputs": [
    {
     "data": {
      "text/html": [
       "<div>\n",
       "<style scoped>\n",
       "    .dataframe tbody tr th:only-of-type {\n",
       "        vertical-align: middle;\n",
       "    }\n",
       "\n",
       "    .dataframe tbody tr th {\n",
       "        vertical-align: top;\n",
       "    }\n",
       "\n",
       "    .dataframe thead tr th {\n",
       "        text-align: left;\n",
       "    }\n",
       "\n",
       "    .dataframe thead tr:last-of-type th {\n",
       "        text-align: right;\n",
       "    }\n",
       "</style>\n",
       "<table border=\"1\" class=\"dataframe\">\n",
       "  <thead>\n",
       "    <tr>\n",
       "      <th></th>\n",
       "      <th>count</th>\n",
       "      <th>mean</th>\n",
       "    </tr>\n",
       "    <tr>\n",
       "      <th></th>\n",
       "      <th>m2_cost</th>\n",
       "      <th>m2_cost</th>\n",
       "    </tr>\n",
       "    <tr>\n",
       "      <th>locality_name</th>\n",
       "      <th></th>\n",
       "      <th></th>\n",
       "    </tr>\n",
       "  </thead>\n",
       "  <tbody>\n",
       "    <tr>\n",
       "      <th>Бокситогорск</th>\n",
       "      <td>16</td>\n",
       "      <td>17551.591250</td>\n",
       "    </tr>\n",
       "    <tr>\n",
       "      <th>Волосово</th>\n",
       "      <td>36</td>\n",
       "      <td>40183.326111</td>\n",
       "    </tr>\n",
       "    <tr>\n",
       "      <th>Волхов</th>\n",
       "      <td>110</td>\n",
       "      <td>35084.344818</td>\n",
       "    </tr>\n",
       "    <tr>\n",
       "      <th>Всеволожск</th>\n",
       "      <td>397</td>\n",
       "      <td>68719.320378</td>\n",
       "    </tr>\n",
       "    <tr>\n",
       "      <th>Выборг</th>\n",
       "      <td>235</td>\n",
       "      <td>58238.143277</td>\n",
       "    </tr>\n",
       "    <tr>\n",
       "      <th>...</th>\n",
       "      <td>...</td>\n",
       "      <td>...</td>\n",
       "    </tr>\n",
       "    <tr>\n",
       "      <th>село Путилово</th>\n",
       "      <td>2</td>\n",
       "      <td>39921.755000</td>\n",
       "    </tr>\n",
       "    <tr>\n",
       "      <th>село Рождествено</th>\n",
       "      <td>3</td>\n",
       "      <td>37733.160000</td>\n",
       "    </tr>\n",
       "    <tr>\n",
       "      <th>село Русско-Высоцкое</th>\n",
       "      <td>9</td>\n",
       "      <td>54833.727778</td>\n",
       "    </tr>\n",
       "    <tr>\n",
       "      <th>село Старая Ладога</th>\n",
       "      <td>2</td>\n",
       "      <td>34696.970000</td>\n",
       "    </tr>\n",
       "    <tr>\n",
       "      <th>село Шум</th>\n",
       "      <td>1</td>\n",
       "      <td>33898.310000</td>\n",
       "    </tr>\n",
       "  </tbody>\n",
       "</table>\n",
       "<p>329 rows × 2 columns</p>\n",
       "</div>"
      ],
      "text/plain": [
       "                       count          mean\n",
       "                     m2_cost       m2_cost\n",
       "locality_name                             \n",
       "Бокситогорск              16  17551.591250\n",
       "Волосово                  36  40183.326111\n",
       "Волхов                   110  35084.344818\n",
       "Всеволожск               397  68719.320378\n",
       "Выборг                   235  58238.143277\n",
       "...                      ...           ...\n",
       "село Путилово              2  39921.755000\n",
       "село Рождествено           3  37733.160000\n",
       "село Русско-Высоцкое       9  54833.727778\n",
       "село Старая Ладога         2  34696.970000\n",
       "село Шум                   1  33898.310000\n",
       "\n",
       "[329 rows x 2 columns]"
      ]
     },
     "execution_count": 59,
     "metadata": {},
     "output_type": "execute_result"
    }
   ],
   "source": [
    "highest_ads_number_locations = data.pivot_table(index='locality_name', values='m2_cost', aggfunc=['count', 'mean'])\n",
    "highest_ads_number_locations"
   ]
  },
  {
   "cell_type": "code",
   "execution_count": 60,
   "metadata": {},
   "outputs": [
    {
     "data": {
      "text/html": [
       "<div>\n",
       "<style scoped>\n",
       "    .dataframe tbody tr th:only-of-type {\n",
       "        vertical-align: middle;\n",
       "    }\n",
       "\n",
       "    .dataframe tbody tr th {\n",
       "        vertical-align: top;\n",
       "    }\n",
       "\n",
       "    .dataframe thead th {\n",
       "        text-align: right;\n",
       "    }\n",
       "</style>\n",
       "<table border=\"1\" class=\"dataframe\">\n",
       "  <thead>\n",
       "    <tr style=\"text-align: right;\">\n",
       "      <th></th>\n",
       "      <th>count</th>\n",
       "      <th>m2_mean</th>\n",
       "    </tr>\n",
       "    <tr>\n",
       "      <th>locality_name</th>\n",
       "      <th></th>\n",
       "      <th></th>\n",
       "    </tr>\n",
       "  </thead>\n",
       "  <tbody>\n",
       "    <tr>\n",
       "      <th>Санкт-Петербург</th>\n",
       "      <td>15609</td>\n",
       "      <td>114878.285460</td>\n",
       "    </tr>\n",
       "    <tr>\n",
       "      <th>поселок Мурино</th>\n",
       "      <td>552</td>\n",
       "      <td>85629.568641</td>\n",
       "    </tr>\n",
       "    <tr>\n",
       "      <th>поселок Шушары</th>\n",
       "      <td>439</td>\n",
       "      <td>78551.344647</td>\n",
       "    </tr>\n",
       "    <tr>\n",
       "      <th>Всеволожск</th>\n",
       "      <td>397</td>\n",
       "      <td>68719.320378</td>\n",
       "    </tr>\n",
       "    <tr>\n",
       "      <th>Пушкин</th>\n",
       "      <td>366</td>\n",
       "      <td>103147.825574</td>\n",
       "    </tr>\n",
       "    <tr>\n",
       "      <th>Колпино</th>\n",
       "      <td>337</td>\n",
       "      <td>75443.972849</td>\n",
       "    </tr>\n",
       "    <tr>\n",
       "      <th>поселок Парголово</th>\n",
       "      <td>326</td>\n",
       "      <td>90205.423374</td>\n",
       "    </tr>\n",
       "    <tr>\n",
       "      <th>Гатчина</th>\n",
       "      <td>307</td>\n",
       "      <td>68746.146515</td>\n",
       "    </tr>\n",
       "    <tr>\n",
       "      <th>деревня Кудрово</th>\n",
       "      <td>299</td>\n",
       "      <td>92473.547559</td>\n",
       "    </tr>\n",
       "    <tr>\n",
       "      <th>Выборг</th>\n",
       "      <td>235</td>\n",
       "      <td>58238.143277</td>\n",
       "    </tr>\n",
       "  </tbody>\n",
       "</table>\n",
       "</div>"
      ],
      "text/plain": [
       "                   count        m2_mean\n",
       "locality_name                          \n",
       "Санкт-Петербург    15609  114878.285460\n",
       "поселок Мурино       552   85629.568641\n",
       "поселок Шушары       439   78551.344647\n",
       "Всеволожск           397   68719.320378\n",
       "Пушкин               366  103147.825574\n",
       "Колпино              337   75443.972849\n",
       "поселок Парголово    326   90205.423374\n",
       "Гатчина              307   68746.146515\n",
       "деревня Кудрово      299   92473.547559\n",
       "Выборг               235   58238.143277"
      ]
     },
     "execution_count": 60,
     "metadata": {},
     "output_type": "execute_result"
    }
   ],
   "source": [
    "highest_ads_number_locations.columns = ['count', 'm2_mean']\n",
    "ten_highest_ads_number_locations = highest_ads_number_locations.sort_values(by='count', ascending=False).head(10)\n",
    "ten_highest_ads_number_locations"
   ]
  },
  {
   "cell_type": "markdown",
   "metadata": {},
   "source": [
    "<div class=\"alert alert-block alert-success\">\n",
    " \n",
    "# Комментарий ревьюера ver.2\n",
    "    \n",
    "#### Успех\n",
    "    \n",
    "Рейтинг топ-10 по городам получен "
   ]
  },
  {
   "cell_type": "code",
   "execution_count": 61,
   "metadata": {},
   "outputs": [
    {
     "data": {
      "image/png": "[encoded data removed]",
      "text/plain": [
       "<Figure size 720x432 with 1 Axes>"
      ]
     },
     "metadata": {
      "needs_background": "light"
     },
     "output_type": "display_data"
    }
   ],
   "source": [
    "df_spb = data[data['locality_name'] == 'Санкт-Петербург']\n",
    "grouped = df_spb.groupby(pd.cut(df_spb['city_сenters_nearest_km'], bins=range(int(df_spb['city_сenters_nearest_km'].max()) + 2)))\n",
    "average_prices = grouped['m2_cost'].mean()\n",
    "\n",
    "plt.figure(figsize=(10, 6))\n",
    "plt.plot(average_prices.index.categories.mid, average_prices.values)\n",
    "plt.xlabel('Расстояние до центра (км)')\n",
    "plt.ylabel('Средняя цена (руб./м2)')\n",
    "plt.title('Зависимость цены от расстояния до центра в Санкт-Петербурге')\n",
    "plt.grid(True)\n",
    "plt.show()"
   ]
  },
  {
   "cell_type": "markdown",
   "metadata": {},
   "source": [
    "<div class=\"alert alert-block alert-danger\">\n",
    " \n",
    "### Комментарий ревьюера\n",
    "    \n",
    "#### Ошибка\n",
    "    \n",
    "К сожалению, тут из-за того, что весь код в одной ячейке видно только один график. Нужно было вывести и остальные графики распределения. Оформи, пожалуйста, проект по структуре так, чтобы лоигчески код делился на блоки.  После этого смогу все просмотреть и проверить твой проект. "
   ]
  },
  {
   "cell_type": "markdown",
   "metadata": {},
   "source": [
    "<div class=\"alert alert-block alert-warning\">\n",
    " \n",
    "# Комментарий ревьюера ver.3\n",
    "    \n",
    "#### Совет\n",
    "\n",
    "Тут по графику хорошо получилось. Но как сам считаешь, а где заканчивается зона центра города?\n",
    "    \n",
    "Думаю, в таком радиусе, чтобы минут за 30-60 можно было дойти пешком, то есть километров 3-6."
   ]
  },
  {
   "cell_type": "markdown",
   "metadata": {},
   "source": [
    "<div class=\"alert alert-block alert-warning\">\n",
    " \n",
    "# Комментарий ревьюера ver.4\n",
    "    \n",
    "#### Совет\n",
    "    \n",
    "По графику можно заметить, что после 7-8 км цена перестает резко падать. Это говорит о том, что заканчивается зона центра города. "
   ]
  },
  {
   "cell_type": "markdown",
   "metadata": {
    "id": "h7VpzkIDAwb-"
   },
   "source": [
    "### Напишите общий вывод"
   ]
  },
  {
   "cell_type": "markdown",
   "metadata": {
    "id": "3H4lnp_KAwb-"
   },
   "source": [
    "Время продажи квартиры имеет практически Пуассоновское распределение. Среднее и медиана равны 157.2 и 74, соответственно. Видно, что их значения очень отличаются. На гистограмме видны всплески около 45, 60 и 90 дней. Возможно, это обусловлено некими ограничениями сервиса, которые снимают объявление через 1.5, 2 или 3 месяца (возможно, в зависимости от тарифа), если его не продлить. Но данную гипотезу необходимо проверять у поставщика данных. Исходя из Пуассоновского распределения данных, достаточно трудно сделать вывод о сроках продажи квартиры, но исходя из диаграммы размах и статистических данных можно утверждать, что:\n",
    "\n",
    "в среднем квартиры продаются от 1.5 до 8 месяцев, наиболее часто около 3-4 месяцев;\n",
    "если квартиру удалось продать менее чем за 1.5 месяца - это очень хорошо;\n",
    "если квартиру не удается продать более года - это необычно долго.\n",
    "Удаление редких и выбивающихся значений\n",
    "\n",
    "В столбцах total_images, rooms, floors_total и airports_nearest были обнаружены выбивающиеся за рамки 1.5IRQ (усы диаграммы размаха) значения. Их доля от общего числа составлял менее 1%, поэтому они были удалены. Скорее всего, это аномалии, но, лучше уточнить данную информацию у поставщика данных.\n",
    "\n",
    "Также подобные значения были обнаружены в столбцах last_price, total_area, ceiling_height, living_area, kitchen_area, balcony, city_center_nearest, days_exposition, m2_price, living_total_area_ratio и kitchen_total_area_ratio. Они не были удалены по следующим причинам:\n",
    "\n",
    "last_price, total_area, ceiling_height, living_area, kitchen_area, balcony, m2_price, kitchen_total_area_ration - распределение столбцов не является нормальным, а количество выбивающихся значений в этих столбцах достаточно велико (3-10%). Это объясняются наличием на рынке большого сильно различающихся квартир, которые сами по себе не являются аномалиями и их удаление повлечет потерю качества данных;\n",
    "city_center_nearest - наличие аномалий объясняется некоторым количеством населенных пунктов удаленных от центра Санкт-Петербурга, которые по сути не являются аномалиями;\n",
    "days_exposition - аномалии в данных объясняются кризисом 2014 года. Судя по данным, квартиры какое-то время практически не покупали. Со временем ситуация нормализовалась;\n",
    "living_total_area_ratio - количество аномалий очень мало, а у столбца наблюдается нормальное распределение. Так как усы диаграммы размаха захватывают на все данные нормального распределения, аномалиями признаны нормальные данные.\n",
    "Исследование цены квартир\n",
    "\n",
    "Наибольшим образом на цену квартиры влияют ее площадь (в том числе, жилая площадь и площадь кухни - эти значения тесно связаны с общей площадью квартиры) и высота потолков в квартире. При увеличении площади квартиры цена на нее растет, но не прямо пропорционально.\n",
    "\n",
    "От числа комнат в квартире зависит ее максимальная цена - чем больше комнат, тем она выше. Та же ситуация наблюдается с зависимостью от этажа квартиры (первого или последнего) - максимальная цена квартиры на последнем этаже больше.\n",
    "\n",
    "Также наблюдается зависимость, что у квартир более далеких от центра максимальная цена уменьшается.\n",
    "\n",
    "От дня недели и месяца, в которые было подано объявление, цена квартиры не зависит. А из-за кризиса 2014 года максимальная цена на квартиры выросла, начиная с 2015 года.\n",
    "\n",
    "Населенные пункты с наибольшим числом объявлений - Санкт-Петербург, поселок Мурино, поселок Шушары, Всеволожск, Пушкин, Колпино, Гатчина, поселок Парголово, деревня Кудровои и Выборг. Средняя стоимость м\n",
    " для каждого из населенных пунктов приведена выше в тетради. Средняя цена м\n",
    " для всех этих пунктов - 83 тыс. Наибольшая стоимость м\n",
    " в Зеленогорске - 117.5 тыс., наименьшая - в деревне Старополье - 11 тыс.\n",
    "\n",
    "Определение центра города\n",
    "\n",
    "По графику зависимости цены от удаленности от центра в Санкт-Петербурге видно, что центром города можно считать площадь, в радиусе 10 км от центра.\n",
    "\n",
    "Основные выводы.\n",
    "\n",
    "Срок продажи:\n",
    "\n",
    "Типичный срок продажи квартиры составляет 3-4 месяца. \n",
    "Однако, распределение данных о времени продажи достаточно разбросанное, поэтому не стоит полагаться только на среднее значение. \n",
    "\n",
    "Цена:\n",
    "\n",
    "Площадь: Цена квартиры напрямую зависит от ее площади, включая жилую и кухню. С увеличением площади цена растет, но не линейно.\n",
    "Высота потолков: Высота потолков также оказывает значительное влияние на цену.\n",
    "Количество комнат: Чем больше комнат в квартире, тем выше ее максимальная цена. \n",
    "Расстояние от центра: Максимальная цена квартиры обратно пропорциональна расстоянию от центра города. \n",
    "Центр города: В радиусе 10 км от центра города наблюдается резкое увеличение цен на квартиры.\n",
    "\n",
    "Зависимость цены от различных параметров:\n",
    "\n",
    "Важные факторы, влияющие на стоимость квадратного метра:\n",
    "\n",
    "Размер квартиры: Площадь квартиры играет ключевую роль.\n",
    "Количество комнат: Чем больше комнат, тем выше цена.\n",
    "Высота потолков: Высокие потолки повышают стоимость.\n",
    "Расположение: Близость к центру города влияет на цену.\n",
    "Инфраструктура: Наличие парковок и водоемов рядом с домом повышает привлекательность.\n",
    "\n",
    "Дополнительные факторы:\n",
    "\n",
    "Этаж: Квартиры на первом этаже обычно дешевле.\n",
    "Сезонность: Цена может меняться на 5% в зависимости от месяца и недели.\n",
    "День публикации: Больше всего объявлений публикуется в рабочие дни.\n",
    "Сезонные колебания: В декабре, январе и мае меньше всего объявлений. Пик активности приходится на февраль, март и ноябрь.\n",
    "\n"
   ]
  },
  {
   "cell_type": "markdown",
   "metadata": {},
   "source": [
    "<div class=\"alert alert-block alert-success\">\n",
    " \n",
    "# Комментарий ревьюера ver.2\n",
    "    \n",
    "#### Успех\n",
    "    \n",
    "А вот за итоговый вывод большая благодарность. У нас достаточно много инсайтов, которые точно помогут составить антифрод-систему для Сервиса Недвижимости. "
   ]
  },
  {
   "cell_type": "markdown",
   "metadata": {
    "id": "A90mc0BgAwb-"
   },
   "source": [
    "**Чек-лист готовности проекта**\n",
    "\n",
    "Поставьте 'x' в выполненных пунктах. Далее нажмите Shift+Enter."
   ]
  },
  {
   "cell_type": "markdown",
   "metadata": {
    "id": "ME3sTWm6Awb-"
   },
   "source": [
    "- [x]  Файл с данными открыт.\n",
    "- [ ]  Файл с данными изучен: выведены первые строки, использован метод `info()`, построены гистограммы.\n",
    "- [ ]  Найдены пропущенные значения.\n",
    "- [ ]  Пропущенные значения заполнены там, где это возможно.\n",
    "- [ ]  Объяснено, какие пропущенные значения обнаружены.\n",
    "- [ ]  В каждом столбце установлен корректный тип данных.\n",
    "- [ ]  Объяснено, в каких столбцах изменён тип данных и почему.\n",
    "- [ ]  Устранены неявные дубликаты в названиях населённых пунктов.\n",
    "- [ ]  Обработаны редкие и выбивающиеся значения (аномалии).\n",
    "- [ ]  В таблицу добавлены новые параметры:\n",
    "       – цена одного квадратного метра;\n",
    "       – день публикации объявления (0 - понедельник, 1 - вторник и т. д.);\n",
    "       – месяц публикации объявления;\n",
    "       – год публикации объявления;\n",
    "       – тип этажа квартиры (значения — «первый», «последний», «другой»);\n",
    "       – расстояние до центра города в километрах.\n",
    "- [ ]  Изучены и описаны параметры:\n",
    "        - общая площадь;\n",
    "        - жилая площадь;\n",
    "        - площадь кухни;\n",
    "        - цена объекта;\n",
    "        - количество комнат;\n",
    "        - высота потолков;\n",
    "        - тип этажа квартиры («первый», «последний», «другой»);\n",
    "        - общее количество этажей в доме;\n",
    "        - расстояние до центра города в метрах;\n",
    "        - расстояние до ближайшего парка.\n",
    "- [ ]  Выполнено задание «Изучите, как быстро продавались квартиры (столбец `days_exposition`)»:\n",
    "    - построена гистограмма;\n",
    "    - рассчитаны среднее и медиана;\n",
    "    - описано, сколько обычно занимает продажа и указано, какие продажи можно считать быстрыми, а какие — необычно долгими.\n",
    "- [ ]  Выполнено задание «Определите факторы, которые больше всего влияют на общую (полную) стоимость объекта». Построены графики, которые показывают зависимость цены от параметров:\n",
    "        - общая площадь;\n",
    "        - жилая площадь;\n",
    "        - площадь кухни;\n",
    "        - количество комнат;\n",
    "        - тип этажа, на котором расположена квартира (первый, последний, другой);\n",
    "        - дата размещения (день недели, месяц, год).\n",
    "- [ ]  Выполнено задание «Посчитайте среднюю цену одного квадратного метра в 10 населённых пунктах с наибольшим числом объявлений»:\n",
    "    - выделены населённые пункты с самой высокой и низкой стоимостью квадратного метра.\n",
    "- [ ]  Выполнено задание «Выделите квартиры в Санкт-Петербурге с помощью столбца `locality_name` и вычислите их среднюю стоимость на разном удалении от центра»:\n",
    "    -  учтён каждый километр расстояния, известны средние цены квартир в одном километре от центра, в двух и так далее;\n",
    "    -  описано, как стоимость объекта зависит от расстояния до центра города;\n",
    "    -  построен график изменения средней цены для каждого километра от центра Петербурга.\n",
    "- [ ]  На каждом этапе сделаны промежуточные выводы.\n",
    "- [ ]  В конце проекта сделан общий вывод."
   ]
  },
  {
   "cell_type": "code",
   "execution_count": null,
   "metadata": {},
   "outputs": [],
   "source": []
  }
 ],
 "metadata": {
  "ExecuteTimeLog": [
   {
    "duration": 1766,
    "start_time": "2024-07-10T16:33:19.517Z"
   },
   {
    "duration": 112,
    "start_time": "2024-07-10T16:33:25.908Z"
   },
   {
    "duration": 93,
    "start_time": "2024-07-10T16:33:32.937Z"
   },
   {
    "duration": 43,
    "start_time": "2024-07-10T16:33:38.759Z"
   },
   {
    "duration": 122,
    "start_time": "2024-07-10T16:34:39.933Z"
   },
   {
    "duration": 24,
    "start_time": "2024-07-10T16:36:47.307Z"
   },
   {
    "duration": 1929,
    "start_time": "2024-07-10T16:37:14.413Z"
   },
   {
    "duration": 1952,
    "start_time": "2024-07-10T16:37:29.148Z"
   },
   {
    "duration": 1773,
    "start_time": "2024-07-10T18:16:52.764Z"
   },
   {
    "duration": 2072,
    "start_time": "2024-07-10T18:17:29.257Z"
   },
   {
    "duration": 1937,
    "start_time": "2024-07-10T18:17:35.376Z"
   },
   {
    "duration": 442,
    "start_time": "2024-07-13T15:51:01.218Z"
   },
   {
    "duration": 37,
    "start_time": "2024-07-13T15:51:04.142Z"
   },
   {
    "duration": 314,
    "start_time": "2024-07-13T15:51:26.959Z"
   },
   {
    "duration": 99,
    "start_time": "2024-07-13T15:51:35.483Z"
   },
   {
    "duration": 175,
    "start_time": "2024-07-13T15:51:43.230Z"
   },
   {
    "duration": 2299,
    "start_time": "2024-07-13T15:57:00.655Z"
   },
   {
    "duration": 5,
    "start_time": "2024-07-13T16:00:39.487Z"
   },
   {
    "duration": 6,
    "start_time": "2024-07-13T16:00:52.247Z"
   },
   {
    "duration": 7,
    "start_time": "2024-07-13T16:01:01.482Z"
   },
   {
    "duration": 6,
    "start_time": "2024-07-13T16:01:19.998Z"
   },
   {
    "duration": 12,
    "start_time": "2024-07-13T16:01:35.298Z"
   },
   {
    "duration": 11,
    "start_time": "2024-07-13T16:01:42.816Z"
   },
   {
    "duration": 12,
    "start_time": "2024-07-13T16:01:48.873Z"
   },
   {
    "duration": 15,
    "start_time": "2024-07-13T16:01:55.112Z"
   },
   {
    "duration": 22,
    "start_time": "2024-07-13T16:02:06.917Z"
   },
   {
    "duration": 1229,
    "start_time": "2024-07-13T16:02:13.020Z"
   },
   {
    "duration": 1298,
    "start_time": "2024-07-13T16:02:22.555Z"
   },
   {
    "duration": 1332,
    "start_time": "2024-07-13T16:02:37.313Z"
   },
   {
    "duration": 1438,
    "start_time": "2024-07-13T16:03:02.499Z"
   },
   {
    "duration": 1377,
    "start_time": "2024-07-13T16:03:09.015Z"
   },
   {
    "duration": 1379,
    "start_time": "2024-07-13T16:08:18.499Z"
   },
   {
    "duration": 1263,
    "start_time": "2024-07-13T16:08:29.398Z"
   },
   {
    "duration": 1361,
    "start_time": "2024-07-13T16:08:41.702Z"
   },
   {
    "duration": 430,
    "start_time": "2024-07-13T16:08:49.303Z"
   },
   {
    "duration": 234,
    "start_time": "2024-07-13T16:09:05.878Z"
   },
   {
    "duration": 232,
    "start_time": "2024-07-13T16:09:17.545Z"
   },
   {
    "duration": 260,
    "start_time": "2024-07-13T16:09:27.027Z"
   },
   {
    "duration": 263,
    "start_time": "2024-07-13T16:09:32.975Z"
   },
   {
    "duration": 30,
    "start_time": "2024-07-13T16:09:39.101Z"
   },
   {
    "duration": 30,
    "start_time": "2024-07-13T16:09:48.292Z"
   },
   {
    "duration": 163,
    "start_time": "2024-07-13T16:09:55.237Z"
   },
   {
    "duration": 165,
    "start_time": "2024-07-13T16:10:02.618Z"
   },
   {
    "duration": 161,
    "start_time": "2024-07-13T16:10:11.272Z"
   },
   {
    "duration": 164,
    "start_time": "2024-07-13T16:10:19.447Z"
   },
   {
    "duration": 403,
    "start_time": "2024-07-13T16:10:35.357Z"
   },
   {
    "duration": 29,
    "start_time": "2024-07-13T16:10:44.060Z"
   },
   {
    "duration": 34,
    "start_time": "2024-07-13T16:10:51.990Z"
   },
   {
    "duration": 51,
    "start_time": "2024-07-13T16:11:03.533Z"
   },
   {
    "duration": 39,
    "start_time": "2024-07-13T16:11:32.911Z"
   },
   {
    "duration": 34,
    "start_time": "2024-07-13T16:11:47.314Z"
   },
   {
    "duration": 37,
    "start_time": "2024-07-13T16:12:16.458Z"
   },
   {
    "duration": 35,
    "start_time": "2024-07-13T16:12:54.169Z"
   },
   {
    "duration": 173,
    "start_time": "2024-07-13T16:13:07.885Z"
   },
   {
    "duration": 223,
    "start_time": "2024-07-13T16:13:15.869Z"
   },
   {
    "duration": 287,
    "start_time": "2024-07-13T16:13:23.605Z"
   },
   {
    "duration": 37,
    "start_time": "2024-07-13T16:13:59.022Z"
   },
   {
    "duration": 36,
    "start_time": "2024-07-13T16:14:09.538Z"
   },
   {
    "duration": 208,
    "start_time": "2024-07-13T16:14:15.692Z"
   },
   {
    "duration": 472,
    "start_time": "2024-07-13T16:14:29.831Z"
   },
   {
    "duration": 227,
    "start_time": "2024-07-13T16:14:35.945Z"
   },
   {
    "duration": 224,
    "start_time": "2024-07-13T16:21:22.837Z"
   },
   {
    "duration": 167,
    "start_time": "2024-07-13T16:21:30.099Z"
   },
   {
    "duration": 183,
    "start_time": "2024-07-13T16:21:44.384Z"
   },
   {
    "duration": 163,
    "start_time": "2024-07-13T16:21:55.122Z"
   },
   {
    "duration": 53,
    "start_time": "2024-07-13T16:22:08.877Z"
   },
   {
    "duration": 54,
    "start_time": "2024-07-13T16:22:13.875Z"
   },
   {
    "duration": 949,
    "start_time": "2024-07-13T16:22:24.632Z"
   },
   {
    "duration": 57,
    "start_time": "2024-07-13T16:22:29.552Z"
   },
   {
    "duration": 864,
    "start_time": "2024-07-13T16:22:38.711Z"
   },
   {
    "duration": 56,
    "start_time": "2024-07-13T16:22:46.196Z"
   },
   {
    "duration": 883,
    "start_time": "2024-07-13T16:22:53.581Z"
   },
   {
    "duration": 56,
    "start_time": "2024-07-13T16:22:56.890Z"
   },
   {
    "duration": 869,
    "start_time": "2024-07-13T16:23:09.803Z"
   },
   {
    "duration": 890,
    "start_time": "2024-07-13T16:23:22.179Z"
   },
   {
    "duration": 1131,
    "start_time": "2024-07-13T16:23:23.956Z"
   },
   {
    "duration": 55,
    "start_time": "2024-07-13T16:23:27.752Z"
   },
   {
    "duration": 56,
    "start_time": "2024-07-13T16:23:38.418Z"
   },
   {
    "duration": 56,
    "start_time": "2024-07-13T16:23:44.556Z"
   },
   {
    "duration": 58,
    "start_time": "2024-07-13T16:23:54.540Z"
   },
   {
    "duration": 60,
    "start_time": "2024-07-13T16:24:18.673Z"
   },
   {
    "duration": 63,
    "start_time": "2024-07-13T16:24:24.452Z"
   },
   {
    "duration": 64,
    "start_time": "2024-07-13T16:25:16.332Z"
   },
   {
    "duration": 321,
    "start_time": "2024-07-13T16:26:30.006Z"
   },
   {
    "duration": 986,
    "start_time": "2024-07-13T16:26:45.864Z"
   },
   {
    "duration": 1001,
    "start_time": "2024-07-13T16:27:03.931Z"
   },
   {
    "duration": 1023,
    "start_time": "2024-07-13T16:27:08.485Z"
   },
   {
    "duration": 1317,
    "start_time": "2024-07-13T16:27:13.810Z"
   },
   {
    "duration": 1296,
    "start_time": "2024-07-13T16:27:16.054Z"
   },
   {
    "duration": 1298,
    "start_time": "2024-07-13T16:27:21.856Z"
   },
   {
    "duration": 1294,
    "start_time": "2024-07-13T16:27:42.560Z"
   },
   {
    "duration": 1857,
    "start_time": "2024-07-13T16:27:50.135Z"
   },
   {
    "duration": 1568,
    "start_time": "2024-07-13T16:27:55.687Z"
   },
   {
    "duration": 75,
    "start_time": "2024-07-13T16:43:29.223Z"
   },
   {
    "duration": 68,
    "start_time": "2024-07-13T17:09:51.948Z"
   },
   {
    "duration": 89,
    "start_time": "2024-07-13T17:15:52.318Z"
   },
   {
    "duration": 73,
    "start_time": "2024-07-13T17:16:06.213Z"
   },
   {
    "duration": 75,
    "start_time": "2024-07-13T17:16:11.983Z"
   },
   {
    "duration": 82,
    "start_time": "2024-07-13T17:16:20.294Z"
   },
   {
    "duration": 84,
    "start_time": "2024-07-13T17:19:10.413Z"
   },
   {
    "duration": 81,
    "start_time": "2024-07-13T17:19:16.383Z"
   },
   {
    "duration": 79,
    "start_time": "2024-07-13T17:19:18.398Z"
   },
   {
    "duration": 50,
    "start_time": "2024-07-14T12:13:36.409Z"
   },
   {
    "duration": 11,
    "start_time": "2024-07-14T12:13:39.268Z"
   },
   {
    "duration": 2971,
    "start_time": "2024-07-14T12:13:48.567Z"
   },
   {
    "duration": 94,
    "start_time": "2024-07-14T12:14:02.213Z"
   },
   {
    "duration": 34,
    "start_time": "2024-07-14T12:14:33.407Z"
   },
   {
    "duration": 5,
    "start_time": "2024-07-14T12:14:44.814Z"
   },
   {
    "duration": 6,
    "start_time": "2024-07-14T12:14:53.501Z"
   },
   {
    "duration": 9,
    "start_time": "2024-07-14T12:23:46.263Z"
   },
   {
    "duration": 18,
    "start_time": "2024-07-14T12:23:55.952Z"
   },
   {
    "duration": 16,
    "start_time": "2024-07-14T12:24:01.779Z"
   },
   {
    "duration": 316,
    "start_time": "2024-07-14T12:24:39.357Z"
   },
   {
    "duration": 1523,
    "start_time": "2024-07-14T12:26:18.348Z"
   },
   {
    "duration": 310,
    "start_time": "2024-07-14T12:26:57.422Z"
   },
   {
    "duration": 315,
    "start_time": "2024-07-14T12:28:42.851Z"
   },
   {
    "duration": 316,
    "start_time": "2024-07-14T12:29:02.755Z"
   },
   {
    "duration": 376,
    "start_time": "2024-07-14T12:29:09.539Z"
   },
   {
    "duration": 318,
    "start_time": "2024-07-14T12:29:12.584Z"
   },
   {
    "duration": 312,
    "start_time": "2024-07-14T12:30:37.350Z"
   },
   {
    "duration": 320,
    "start_time": "2024-07-14T12:31:01.720Z"
   },
   {
    "duration": 370,
    "start_time": "2024-07-14T12:32:47.360Z"
   },
   {
    "duration": 321,
    "start_time": "2024-07-14T12:33:02.118Z"
   },
   {
    "duration": 337,
    "start_time": "2024-07-14T12:33:10.460Z"
   },
   {
    "duration": 318,
    "start_time": "2024-07-14T12:33:16.916Z"
   },
   {
    "duration": 379,
    "start_time": "2024-07-14T12:33:24.921Z"
   },
   {
    "duration": 319,
    "start_time": "2024-07-14T12:33:33.822Z"
   },
   {
    "duration": 317,
    "start_time": "2024-07-14T12:34:22.272Z"
   },
   {
    "duration": 342,
    "start_time": "2024-07-14T12:35:20.646Z"
   },
   {
    "duration": 394,
    "start_time": "2024-07-14T12:36:33.422Z"
   },
   {
    "duration": 342,
    "start_time": "2024-07-14T12:37:12.968Z"
   },
   {
    "duration": 314,
    "start_time": "2024-07-14T12:37:38.870Z"
   },
   {
    "duration": 306,
    "start_time": "2024-07-14T12:37:49.332Z"
   },
   {
    "duration": 382,
    "start_time": "2024-07-14T12:38:04.183Z"
   },
   {
    "duration": 311,
    "start_time": "2024-07-14T12:38:33.783Z"
   },
   {
    "duration": 317,
    "start_time": "2024-07-14T12:38:55.990Z"
   },
   {
    "duration": 318,
    "start_time": "2024-07-14T12:39:07.576Z"
   },
   {
    "duration": 376,
    "start_time": "2024-07-14T12:39:15.641Z"
   },
   {
    "duration": 310,
    "start_time": "2024-07-14T12:39:21.547Z"
   },
   {
    "duration": 324,
    "start_time": "2024-07-14T12:42:06.164Z"
   },
   {
    "duration": 311,
    "start_time": "2024-07-14T12:43:33.351Z"
   },
   {
    "duration": 370,
    "start_time": "2024-07-14T12:43:46.293Z"
   },
   {
    "duration": 317,
    "start_time": "2024-07-14T12:43:53.301Z"
   },
   {
    "duration": 1191,
    "start_time": "2024-07-14T12:54:44.662Z"
   },
   {
    "duration": 1411,
    "start_time": "2024-07-14T12:54:55.597Z"
   },
   {
    "duration": 1492,
    "start_time": "2024-07-14T12:55:02.990Z"
   },
   {
    "duration": 2458,
    "start_time": "2024-07-14T12:55:08.904Z"
   },
   {
    "duration": 3023,
    "start_time": "2024-07-14T12:55:16.502Z"
   },
   {
    "duration": 1153,
    "start_time": "2024-07-14T12:55:38.499Z"
   },
   {
    "duration": 743,
    "start_time": "2024-07-14T12:55:49.821Z"
   },
   {
    "duration": 710,
    "start_time": "2024-07-14T12:56:06.880Z"
   },
   {
    "duration": 685,
    "start_time": "2024-07-14T12:56:14.245Z"
   },
   {
    "duration": 962,
    "start_time": "2024-07-14T12:56:20.664Z"
   },
   {
    "duration": 787,
    "start_time": "2024-07-14T12:56:37.525Z"
   },
   {
    "duration": 536,
    "start_time": "2024-07-14T12:56:44.053Z"
   },
   {
    "duration": 537,
    "start_time": "2024-07-14T12:56:56.406Z"
   },
   {
    "duration": 618,
    "start_time": "2024-07-14T12:57:02.858Z"
   },
   {
    "duration": 732,
    "start_time": "2024-07-14T12:57:16.526Z"
   },
   {
    "duration": 474,
    "start_time": "2024-07-14T12:57:21.197Z"
   },
   {
    "duration": 473,
    "start_time": "2024-07-14T12:57:32.534Z"
   },
   {
    "duration": 459,
    "start_time": "2024-07-14T12:57:36.880Z"
   },
   {
    "duration": 463,
    "start_time": "2024-07-14T12:57:39.013Z"
   },
   {
    "duration": 473,
    "start_time": "2024-07-14T12:57:40.628Z"
   },
   {
    "duration": 472,
    "start_time": "2024-07-14T12:57:48.906Z"
   },
   {
    "duration": 699,
    "start_time": "2024-07-14T12:57:52.293Z"
   },
   {
    "duration": 441,
    "start_time": "2024-07-14T13:34:06.262Z"
   },
   {
    "duration": 349,
    "start_time": "2024-07-14T13:34:12.258Z"
   },
   {
    "duration": 523,
    "start_time": "2024-07-14T13:34:20.033Z"
   },
   {
    "duration": 339,
    "start_time": "2024-07-14T13:35:14.718Z"
   },
   {
    "duration": 647,
    "start_time": "2024-07-14T13:35:22.337Z"
   },
   {
    "duration": 355,
    "start_time": "2024-07-14T13:35:28.192Z"
   },
   {
    "duration": 1182,
    "start_time": "2024-07-14T13:39:30.830Z"
   },
   {
    "duration": 494,
    "start_time": "2024-07-14T13:39:38.405Z"
   },
   {
    "duration": 512,
    "start_time": "2024-07-14T13:40:05.348Z"
   },
   {
    "duration": 499,
    "start_time": "2024-07-14T13:40:54.967Z"
   },
   {
    "duration": 498,
    "start_time": "2024-07-14T13:41:17.427Z"
   },
   {
    "duration": 544,
    "start_time": "2024-07-14T13:41:30.373Z"
   },
   {
    "duration": 578,
    "start_time": "2024-07-14T13:41:50.563Z"
   },
   {
    "duration": 854,
    "start_time": "2024-07-14T13:42:00.538Z"
   },
   {
    "duration": 530,
    "start_time": "2024-07-14T13:42:08.244Z"
   },
   {
    "duration": 1350,
    "start_time": "2024-07-14T13:42:23.832Z"
   },
   {
    "duration": 1706,
    "start_time": "2024-07-14T13:42:31.626Z"
   },
   {
    "duration": 1368,
    "start_time": "2024-07-14T13:42:34.484Z"
   },
   {
    "duration": 754,
    "start_time": "2024-07-14T13:42:40.256Z"
   },
   {
    "duration": 388,
    "start_time": "2024-07-14T13:42:50.512Z"
   },
   {
    "duration": 1429,
    "start_time": "2024-07-14T13:42:57.761Z"
   },
   {
    "duration": 1854,
    "start_time": "2024-07-14T13:43:09.316Z"
   },
   {
    "duration": 1458,
    "start_time": "2024-07-14T13:43:17.830Z"
   },
   {
    "duration": 516,
    "start_time": "2024-07-14T13:43:29.072Z"
   },
   {
    "duration": 524,
    "start_time": "2024-07-14T13:43:36.717Z"
   },
   {
    "duration": 535,
    "start_time": "2024-07-14T13:43:44.604Z"
   },
   {
    "duration": 554,
    "start_time": "2024-07-14T13:43:51.036Z"
   },
   {
    "duration": 1080,
    "start_time": "2024-07-14T13:44:00.564Z"
   },
   {
    "duration": 537,
    "start_time": "2024-07-14T13:44:05.814Z"
   },
   {
    "duration": 546,
    "start_time": "2024-07-14T13:44:15.082Z"
   },
   {
    "duration": 582,
    "start_time": "2024-07-14T13:44:21.623Z"
   },
   {
    "duration": 520,
    "start_time": "2024-07-14T13:44:34.484Z"
   },
   {
    "duration": 397,
    "start_time": "2024-07-14T13:44:42.777Z"
   },
   {
    "duration": 363,
    "start_time": "2024-07-14T13:44:53.941Z"
   },
   {
    "duration": 544,
    "start_time": "2024-07-14T13:45:00.648Z"
   },
   {
    "duration": 536,
    "start_time": "2024-07-14T13:45:08.228Z"
   },
   {
    "duration": 545,
    "start_time": "2024-07-14T13:45:14.540Z"
   },
   {
    "duration": 983,
    "start_time": "2024-07-14T13:45:22.391Z"
   },
   {
    "duration": 602,
    "start_time": "2024-07-14T13:45:28.029Z"
   },
   {
    "duration": 1038,
    "start_time": "2024-07-14T13:47:03.739Z"
   },
   {
    "duration": 930,
    "start_time": "2024-07-14T13:47:11.274Z"
   },
   {
    "duration": 982,
    "start_time": "2024-07-14T13:47:20.056Z"
   },
   {
    "duration": 1515,
    "start_time": "2024-07-14T13:47:50.413Z"
   },
   {
    "duration": 1105,
    "start_time": "2024-07-14T13:47:58.971Z"
   },
   {
    "duration": 1103,
    "start_time": "2024-07-14T13:48:05.464Z"
   },
   {
    "duration": 3253,
    "start_time": "2024-07-14T13:49:44.882Z"
   },
   {
    "duration": 2596,
    "start_time": "2024-07-14T13:49:53.438Z"
   },
   {
    "duration": 2026,
    "start_time": "2024-07-14T13:49:57.615Z"
   },
   {
    "duration": 2578,
    "start_time": "2024-07-14T13:50:02.343Z"
   },
   {
    "duration": 2468,
    "start_time": "2024-07-14T13:50:05.171Z"
   },
   {
    "duration": 1907,
    "start_time": "2024-07-14T13:50:12.811Z"
   },
   {
    "duration": 2651,
    "start_time": "2024-07-14T13:50:20.110Z"
   },
   {
    "duration": 2648,
    "start_time": "2024-07-14T13:50:29.706Z"
   },
   {
    "duration": 67,
    "start_time": "2024-07-14T13:51:34.651Z"
   },
   {
    "duration": 2014,
    "start_time": "2024-07-14T13:51:40.517Z"
   },
   {
    "duration": 2614,
    "start_time": "2024-07-14T13:51:49.368Z"
   },
   {
    "duration": 1974,
    "start_time": "2024-07-14T13:52:12.940Z"
   },
   {
    "duration": 2554,
    "start_time": "2024-07-14T13:52:20.317Z"
   },
   {
    "duration": 2038,
    "start_time": "2024-07-14T13:52:39.927Z"
   },
   {
    "duration": 1728,
    "start_time": "2024-07-14T13:52:45.147Z"
   },
   {
    "duration": 1162,
    "start_time": "2024-07-14T13:52:51.720Z"
   },
   {
    "duration": 1078,
    "start_time": "2024-07-14T13:53:12.806Z"
   },
   {
    "duration": 3560,
    "start_time": "2024-07-14T13:53:38.206Z"
   },
   {
    "duration": 3479,
    "start_time": "2024-07-14T13:53:43.098Z"
   },
   {
    "duration": 2264,
    "start_time": "2024-07-14T13:53:52.654Z"
   },
   {
    "duration": 3146,
    "start_time": "2024-07-14T13:54:07.775Z"
   },
   {
    "duration": 447,
    "start_time": "2024-07-14T14:01:50.970Z"
   },
   {
    "duration": 455,
    "start_time": "2024-07-14T14:01:57.746Z"
   },
   {
    "duration": 1393,
    "start_time": "2024-07-14T14:02:31.886Z"
   },
   {
    "duration": 710,
    "start_time": "2024-07-14T14:03:18.838Z"
   },
   {
    "duration": 1523,
    "start_time": "2024-07-14T14:05:20.496Z"
   },
   {
    "duration": 770,
    "start_time": "2024-07-14T14:05:30.987Z"
   },
   {
    "duration": 2125,
    "start_time": "2024-07-14T14:45:34.861Z"
   },
   {
    "duration": 1601,
    "start_time": "2024-07-14T14:47:07.836Z"
   },
   {
    "duration": 2293,
    "start_time": "2024-07-14T14:47:32.569Z"
   },
   {
    "duration": 1579,
    "start_time": "2024-07-14T14:49:05.235Z"
   },
   {
    "duration": 1610,
    "start_time": "2024-07-14T14:58:49.011Z"
   },
   {
    "duration": 1570,
    "start_time": "2024-07-14T15:05:58.558Z"
   },
   {
    "duration": 1543,
    "start_time": "2024-07-14T15:06:13.710Z"
   },
   {
    "duration": 1638,
    "start_time": "2024-07-14T15:06:29.662Z"
   },
   {
    "duration": 1730,
    "start_time": "2024-07-14T15:07:15.157Z"
   },
   {
    "duration": 3124,
    "start_time": "2024-07-14T15:07:56.984Z"
   },
   {
    "duration": 56,
    "start_time": "2024-07-14T15:08:02.662Z"
   },
   {
    "duration": 23,
    "start_time": "2024-07-14T15:11:54.806Z"
   },
   {
    "duration": 24,
    "start_time": "2024-07-14T15:11:55.916Z"
   },
   {
    "duration": 24,
    "start_time": "2024-07-14T15:11:59.877Z"
   },
   {
    "duration": 27,
    "start_time": "2024-07-14T15:12:00.286Z"
   },
   {
    "duration": 36,
    "start_time": "2024-07-14T15:12:00.514Z"
   },
   {
    "duration": 25,
    "start_time": "2024-07-14T15:12:00.719Z"
   },
   {
    "duration": 92,
    "start_time": "2024-07-14T15:12:00.904Z"
   },
   {
    "duration": 22,
    "start_time": "2024-07-14T15:12:09.476Z"
   },
   {
    "duration": 24,
    "start_time": "2024-07-14T15:12:09.868Z"
   },
   {
    "duration": 24,
    "start_time": "2024-07-14T15:12:10.049Z"
   },
   {
    "duration": 34,
    "start_time": "2024-07-14T15:12:10.222Z"
   },
   {
    "duration": 1936,
    "start_time": "2024-07-14T15:12:19.085Z"
   },
   {
    "duration": 84,
    "start_time": "2024-07-14T15:12:25.459Z"
   },
   {
    "duration": 1642,
    "start_time": "2024-07-14T15:12:28.816Z"
   },
   {
    "duration": 2523,
    "start_time": "2024-07-14T15:12:39.624Z"
   },
   {
    "duration": 1624,
    "start_time": "2024-07-14T15:13:02.858Z"
   },
   {
    "duration": 470,
    "start_time": "2024-07-14T15:13:44.122Z"
   },
   {
    "duration": 512,
    "start_time": "2024-07-14T15:14:00.195Z"
   },
   {
    "duration": 481,
    "start_time": "2024-07-14T15:14:12.087Z"
   },
   {
    "duration": 599,
    "start_time": "2024-07-14T15:14:18.226Z"
   },
   {
    "duration": 486,
    "start_time": "2024-07-14T15:14:28.161Z"
   },
   {
    "duration": 646,
    "start_time": "2024-07-14T15:15:13.171Z"
   },
   {
    "duration": 3282,
    "start_time": "2024-07-14T20:26:12.897Z"
   },
   {
    "duration": 195,
    "start_time": "2024-07-14T20:26:16.181Z"
   },
   {
    "duration": 698,
    "start_time": "2024-07-14T20:26:16.378Z"
   },
   {
    "duration": 69,
    "start_time": "2024-07-14T21:05:31.926Z"
   },
   {
    "duration": 3455,
    "start_time": "2024-07-14T21:05:47.796Z"
   },
   {
    "duration": 8,
    "start_time": "2024-07-14T21:23:26.049Z"
   },
   {
    "duration": 4,
    "start_time": "2024-07-14T21:23:28.061Z"
   },
   {
    "duration": 94,
    "start_time": "2024-07-14T21:23:30.401Z"
   },
   {
    "duration": 1323,
    "start_time": "2024-07-14T21:23:34.259Z"
   },
   {
    "duration": 1203,
    "start_time": "2024-07-14T21:23:50.708Z"
   },
   {
    "duration": 214,
    "start_time": "2024-07-14T21:23:53.343Z"
   },
   {
    "duration": 13,
    "start_time": "2024-07-14T21:23:56.672Z"
   },
   {
    "duration": 152,
    "start_time": "2024-07-14T21:23:59.730Z"
   },
   {
    "duration": 149,
    "start_time": "2024-07-14T21:24:23.019Z"
   },
   {
    "duration": 177,
    "start_time": "2024-07-14T21:24:25.471Z"
   },
   {
    "duration": 16,
    "start_time": "2024-07-14T21:24:31.055Z"
   },
   {
    "duration": 1001,
    "start_time": "2024-07-14T22:03:33.324Z"
   },
   {
    "duration": 17,
    "start_time": "2024-07-14T22:03:46.215Z"
   },
   {
    "duration": 151,
    "start_time": "2024-07-14T22:03:49.494Z"
   },
   {
    "duration": 285,
    "start_time": "2024-07-14T22:03:52.941Z"
   },
   {
    "duration": 194,
    "start_time": "2024-07-14T22:03:56.836Z"
   },
   {
    "duration": 345,
    "start_time": "2024-07-14T22:04:04.207Z"
   },
   {
    "duration": 180,
    "start_time": "2024-07-14T22:04:06.826Z"
   },
   {
    "duration": 205,
    "start_time": "2024-07-14T22:04:11.233Z"
   },
   {
    "duration": 202,
    "start_time": "2024-07-14T22:04:14.518Z"
   },
   {
    "duration": 16,
    "start_time": "2024-07-14T22:04:19.335Z"
   },
   {
    "duration": 12,
    "start_time": "2024-07-14T22:04:22.521Z"
   },
   {
    "duration": 6,
    "start_time": "2024-07-14T22:04:27.197Z"
   },
   {
    "duration": 5,
    "start_time": "2024-07-14T22:04:30.067Z"
   },
   {
    "duration": 8,
    "start_time": "2024-07-14T22:04:32.872Z"
   },
   {
    "duration": 28,
    "start_time": "2024-07-14T22:04:35.729Z"
   },
   {
    "duration": 10,
    "start_time": "2024-07-14T22:04:38.590Z"
   },
   {
    "duration": 19,
    "start_time": "2024-07-14T22:04:42.643Z"
   },
   {
    "duration": 340,
    "start_time": "2024-07-14T22:04:45.178Z"
   },
   {
    "duration": 19,
    "start_time": "2024-07-14T22:04:48.479Z"
   },
   {
    "duration": 11,
    "start_time": "2024-07-14T22:04:55.770Z"
   },
   {
    "duration": 8,
    "start_time": "2024-07-14T22:05:04.166Z"
   },
   {
    "duration": 13,
    "start_time": "2024-07-14T22:05:26.190Z"
   },
   {
    "duration": 6,
    "start_time": "2024-07-14T22:08:28.501Z"
   },
   {
    "duration": 211,
    "start_time": "2024-07-14T22:08:45.248Z"
   },
   {
    "duration": 160,
    "start_time": "2024-07-14T22:12:31.198Z"
   },
   {
    "duration": 34,
    "start_time": "2024-07-14T22:12:34.495Z"
   },
   {
    "duration": 21,
    "start_time": "2024-07-14T22:16:50.678Z"
   },
   {
    "duration": 5,
    "start_time": "2024-07-14T22:17:01.805Z"
   },
   {
    "duration": 6,
    "start_time": "2024-07-14T22:17:06.636Z"
   },
   {
    "duration": 301,
    "start_time": "2024-07-14T22:17:11.278Z"
   },
   {
    "duration": 200,
    "start_time": "2024-07-14T22:17:14.897Z"
   },
   {
    "duration": 916,
    "start_time": "2024-07-14T22:17:18.323Z"
   },
   {
    "duration": 1141,
    "start_time": "2024-07-14T22:17:33.700Z"
   },
   {
    "duration": 2267,
    "start_time": "2024-07-14T22:17:40.756Z"
   },
   {
    "duration": 4,
    "start_time": "2024-07-14T22:22:08.063Z"
   },
   {
    "duration": 13,
    "start_time": "2024-07-14T22:22:54.377Z"
   },
   {
    "duration": 6,
    "start_time": "2024-07-14T22:22:58.550Z"
   },
   {
    "duration": 25,
    "start_time": "2024-07-14T22:23:07.672Z"
   },
   {
    "duration": 62,
    "start_time": "2024-07-14T23:04:14.857Z"
   },
   {
    "duration": 44,
    "start_time": "2024-07-14T23:04:19.529Z"
   },
   {
    "duration": 67,
    "start_time": "2024-07-14T23:05:47.621Z"
   },
   {
    "duration": 63,
    "start_time": "2024-07-14T23:06:19.245Z"
   },
   {
    "duration": 314,
    "start_time": "2024-07-14T23:10:12.540Z"
   },
   {
    "duration": 311,
    "start_time": "2024-07-14T23:10:30.371Z"
   },
   {
    "duration": 8,
    "start_time": "2024-07-14T23:11:00.736Z"
   },
   {
    "duration": 712,
    "start_time": "2024-07-14T23:11:14.527Z"
   },
   {
    "duration": 8,
    "start_time": "2024-07-14T23:11:20.525Z"
   },
   {
    "duration": 1931,
    "start_time": "2024-07-14T23:15:40.351Z"
   },
   {
    "duration": 613,
    "start_time": "2024-07-14T23:16:22.655Z"
   },
   {
    "duration": 329,
    "start_time": "2024-07-14T23:16:31.966Z"
   },
   {
    "duration": 335,
    "start_time": "2024-07-14T23:16:34.781Z"
   },
   {
    "duration": 1006,
    "start_time": "2024-07-14T23:17:16.151Z"
   },
   {
    "duration": 4,
    "start_time": "2024-07-15T19:41:04.005Z"
   },
   {
    "duration": 3365,
    "start_time": "2024-07-15T19:56:34.809Z"
   },
   {
    "duration": 5,
    "start_time": "2024-07-15T19:56:38.176Z"
   },
   {
    "duration": 13,
    "start_time": "2024-07-15T19:56:38.182Z"
   },
   {
    "duration": 7,
    "start_time": "2024-07-15T19:56:38.198Z"
   },
   {
    "duration": 5,
    "start_time": "2024-07-15T19:56:38.207Z"
   },
   {
    "duration": 102,
    "start_time": "2024-07-15T19:56:38.214Z"
   },
   {
    "duration": 1117,
    "start_time": "2024-07-15T19:56:38.317Z"
   },
   {
    "duration": 341,
    "start_time": "2024-07-15T19:56:39.436Z"
   },
   {
    "duration": 18,
    "start_time": "2024-07-15T19:56:39.779Z"
   },
   {
    "duration": 178,
    "start_time": "2024-07-15T19:56:39.801Z"
   },
   {
    "duration": 173,
    "start_time": "2024-07-15T19:56:39.981Z"
   },
   {
    "duration": 193,
    "start_time": "2024-07-15T19:56:40.160Z"
   },
   {
    "duration": 176,
    "start_time": "2024-07-15T19:56:40.355Z"
   },
   {
    "duration": 207,
    "start_time": "2024-07-15T19:56:40.532Z"
   },
   {
    "duration": 25,
    "start_time": "2024-07-15T19:56:40.741Z"
   },
   {
    "duration": 11,
    "start_time": "2024-07-15T19:56:40.768Z"
   },
   {
    "duration": 15,
    "start_time": "2024-07-15T19:56:40.780Z"
   },
   {
    "duration": 7,
    "start_time": "2024-07-15T19:56:40.797Z"
   },
   {
    "duration": 10,
    "start_time": "2024-07-15T19:56:40.805Z"
   },
   {
    "duration": 32,
    "start_time": "2024-07-15T19:56:40.817Z"
   },
   {
    "duration": 8,
    "start_time": "2024-07-15T19:56:40.860Z"
   },
   {
    "duration": 14,
    "start_time": "2024-07-15T19:56:40.869Z"
   },
   {
    "duration": 309,
    "start_time": "2024-07-15T19:56:40.885Z"
   },
   {
    "duration": 7,
    "start_time": "2024-07-15T19:56:41.196Z"
   },
   {
    "duration": 447,
    "start_time": "2024-07-15T19:56:41.204Z"
   },
   {
    "duration": 1105,
    "start_time": "2024-07-15T19:56:41.652Z"
   },
   {
    "duration": 0,
    "start_time": "2024-07-15T19:56:42.760Z"
   },
   {
    "duration": 0,
    "start_time": "2024-07-15T19:56:42.761Z"
   },
   {
    "duration": 0,
    "start_time": "2024-07-15T19:56:42.762Z"
   },
   {
    "duration": 0,
    "start_time": "2024-07-15T19:56:42.763Z"
   },
   {
    "duration": 0,
    "start_time": "2024-07-15T19:56:42.765Z"
   },
   {
    "duration": 0,
    "start_time": "2024-07-15T19:56:42.766Z"
   },
   {
    "duration": 0,
    "start_time": "2024-07-15T19:56:42.767Z"
   },
   {
    "duration": 0,
    "start_time": "2024-07-15T19:56:42.768Z"
   },
   {
    "duration": 0,
    "start_time": "2024-07-15T19:56:42.770Z"
   },
   {
    "duration": 0,
    "start_time": "2024-07-15T19:56:42.771Z"
   },
   {
    "duration": 0,
    "start_time": "2024-07-15T19:56:42.773Z"
   },
   {
    "duration": 0,
    "start_time": "2024-07-15T19:56:42.774Z"
   },
   {
    "duration": 0,
    "start_time": "2024-07-15T19:56:42.775Z"
   },
   {
    "duration": 0,
    "start_time": "2024-07-15T19:56:42.776Z"
   },
   {
    "duration": 0,
    "start_time": "2024-07-15T19:56:42.777Z"
   },
   {
    "duration": 0,
    "start_time": "2024-07-15T19:56:42.778Z"
   },
   {
    "duration": 0,
    "start_time": "2024-07-15T19:56:42.779Z"
   },
   {
    "duration": 0,
    "start_time": "2024-07-15T19:56:42.781Z"
   },
   {
    "duration": 0,
    "start_time": "2024-07-15T19:56:42.782Z"
   },
   {
    "duration": 0,
    "start_time": "2024-07-15T19:56:42.783Z"
   },
   {
    "duration": 0,
    "start_time": "2024-07-15T19:56:42.784Z"
   },
   {
    "duration": 0,
    "start_time": "2024-07-15T19:56:42.785Z"
   },
   {
    "duration": 0,
    "start_time": "2024-07-15T19:56:42.787Z"
   },
   {
    "duration": 0,
    "start_time": "2024-07-15T19:56:42.788Z"
   },
   {
    "duration": 0,
    "start_time": "2024-07-15T19:56:42.789Z"
   },
   {
    "duration": 0,
    "start_time": "2024-07-15T19:56:42.790Z"
   },
   {
    "duration": 0,
    "start_time": "2024-07-15T19:56:42.791Z"
   },
   {
    "duration": 0,
    "start_time": "2024-07-15T19:56:42.792Z"
   },
   {
    "duration": 0,
    "start_time": "2024-07-15T19:56:42.793Z"
   },
   {
    "duration": 0,
    "start_time": "2024-07-15T19:56:42.794Z"
   },
   {
    "duration": 0,
    "start_time": "2024-07-15T19:56:42.795Z"
   },
   {
    "duration": 0,
    "start_time": "2024-07-15T19:56:42.796Z"
   },
   {
    "duration": 8,
    "start_time": "2024-07-15T19:57:26.304Z"
   },
   {
    "duration": 174,
    "start_time": "2024-07-15T19:57:28.067Z"
   },
   {
    "duration": 218,
    "start_time": "2024-07-15T19:57:28.302Z"
   },
   {
    "duration": 190,
    "start_time": "2024-07-15T19:57:28.521Z"
   },
   {
    "duration": 349,
    "start_time": "2024-07-15T19:57:28.713Z"
   },
   {
    "duration": 324,
    "start_time": "2024-07-15T19:57:29.194Z"
   },
   {
    "duration": 558,
    "start_time": "2024-07-15T19:57:29.520Z"
   },
   {
    "duration": 6,
    "start_time": "2024-07-15T19:57:30.080Z"
   },
   {
    "duration": 719,
    "start_time": "2024-07-15T19:57:30.104Z"
   },
   {
    "duration": 345,
    "start_time": "2024-07-15T19:57:30.825Z"
   },
   {
    "duration": 521,
    "start_time": "2024-07-15T19:57:31.172Z"
   },
   {
    "duration": 252,
    "start_time": "2024-07-15T19:57:31.695Z"
   },
   {
    "duration": 167,
    "start_time": "2024-07-15T19:57:31.950Z"
   },
   {
    "duration": 148,
    "start_time": "2024-07-15T19:57:32.118Z"
   },
   {
    "duration": 133,
    "start_time": "2024-07-15T19:57:32.268Z"
   },
   {
    "duration": 1188,
    "start_time": "2024-07-15T19:57:32.403Z"
   },
   {
    "duration": 411,
    "start_time": "2024-07-15T19:57:33.593Z"
   },
   {
    "duration": 142,
    "start_time": "2024-07-15T19:57:34.006Z"
   },
   {
    "duration": 155,
    "start_time": "2024-07-15T19:57:34.149Z"
   },
   {
    "duration": 198,
    "start_time": "2024-07-15T19:57:34.306Z"
   },
   {
    "duration": 147,
    "start_time": "2024-07-15T19:57:34.506Z"
   },
   {
    "duration": 601,
    "start_time": "2024-07-15T19:57:34.654Z"
   },
   {
    "duration": 258,
    "start_time": "2024-07-15T19:57:35.260Z"
   },
   {
    "duration": 1272,
    "start_time": "2024-07-15T19:57:35.519Z"
   },
   {
    "duration": 268,
    "start_time": "2024-07-15T19:57:36.792Z"
   },
   {
    "duration": 10,
    "start_time": "2024-07-15T19:57:37.062Z"
   },
   {
    "duration": 2134,
    "start_time": "2024-07-15T19:57:37.074Z"
   },
   {
    "duration": 51,
    "start_time": "2024-07-15T19:57:39.210Z"
   },
   {
    "duration": 25,
    "start_time": "2024-07-15T19:57:39.263Z"
   },
   {
    "duration": 8,
    "start_time": "2024-07-15T19:57:39.290Z"
   },
   {
    "duration": 172,
    "start_time": "2024-07-15T19:57:39.299Z"
   },
   {
    "duration": 3703,
    "start_time": "2024-07-15T20:45:35.490Z"
   },
   {
    "duration": 8,
    "start_time": "2024-07-15T20:45:41.304Z"
   },
   {
    "duration": 5,
    "start_time": "2024-07-15T20:45:43.633Z"
   },
   {
    "duration": 96,
    "start_time": "2024-07-15T20:45:45.807Z"
   },
   {
    "duration": 1258,
    "start_time": "2024-07-15T20:45:47.991Z"
   },
   {
    "duration": 15,
    "start_time": "2024-07-15T20:45:51.253Z"
   },
   {
    "duration": 283,
    "start_time": "2024-07-15T20:45:53.394Z"
   },
   {
    "duration": 382,
    "start_time": "2024-07-15T21:14:48.484Z"
   },
   {
    "duration": 177,
    "start_time": "2024-07-15T21:14:55.573Z"
   },
   {
    "duration": 277,
    "start_time": "2024-07-15T21:15:09.100Z"
   },
   {
    "duration": 297,
    "start_time": "2024-07-15T21:16:50.027Z"
   },
   {
    "duration": 311,
    "start_time": "2024-07-15T21:17:04.101Z"
   },
   {
    "duration": 197,
    "start_time": "2024-07-15T21:17:24.215Z"
   },
   {
    "duration": 49,
    "start_time": "2024-07-15T21:25:18.411Z"
   },
   {
    "duration": 44,
    "start_time": "2024-07-15T21:27:46.147Z"
   },
   {
    "duration": 40,
    "start_time": "2024-07-16T00:06:56.900Z"
   },
   {
    "duration": 296,
    "start_time": "2024-07-16T00:25:30.762Z"
   },
   {
    "duration": 315,
    "start_time": "2024-07-16T00:25:36.038Z"
   },
   {
    "duration": 141,
    "start_time": "2024-07-16T00:25:40.550Z"
   },
   {
    "duration": 259,
    "start_time": "2024-07-16T00:40:21.097Z"
   },
   {
    "duration": 450,
    "start_time": "2024-07-16T00:40:47.957Z"
   },
   {
    "duration": 428,
    "start_time": "2024-07-16T00:41:15.955Z"
   },
   {
    "duration": 578,
    "start_time": "2024-07-16T00:41:22.971Z"
   },
   {
    "duration": 245,
    "start_time": "2024-07-16T00:43:48.595Z"
   },
   {
    "duration": 11,
    "start_time": "2024-07-16T01:29:06.284Z"
   },
   {
    "duration": 10,
    "start_time": "2024-07-16T01:29:42.928Z"
   },
   {
    "duration": 3477,
    "start_time": "2024-07-16T19:10:06.014Z"
   },
   {
    "duration": 4,
    "start_time": "2024-07-16T19:10:09.493Z"
   },
   {
    "duration": 14,
    "start_time": "2024-07-16T19:10:09.498Z"
   },
   {
    "duration": 8,
    "start_time": "2024-07-16T19:10:09.515Z"
   },
   {
    "duration": 4,
    "start_time": "2024-07-16T19:10:09.525Z"
   },
   {
    "duration": 95,
    "start_time": "2024-07-16T19:10:09.531Z"
   },
   {
    "duration": 1182,
    "start_time": "2024-07-16T19:10:09.627Z"
   },
   {
    "duration": 336,
    "start_time": "2024-07-16T19:10:10.811Z"
   },
   {
    "duration": 14,
    "start_time": "2024-07-16T19:10:11.148Z"
   },
   {
    "duration": 180,
    "start_time": "2024-07-16T19:10:11.163Z"
   },
   {
    "duration": 190,
    "start_time": "2024-07-16T19:10:11.345Z"
   },
   {
    "duration": 201,
    "start_time": "2024-07-16T19:10:11.537Z"
   },
   {
    "duration": 158,
    "start_time": "2024-07-16T19:10:11.740Z"
   },
   {
    "duration": 215,
    "start_time": "2024-07-16T19:10:11.901Z"
   },
   {
    "duration": 24,
    "start_time": "2024-07-16T19:10:12.117Z"
   },
   {
    "duration": 11,
    "start_time": "2024-07-16T19:10:12.143Z"
   },
   {
    "duration": 20,
    "start_time": "2024-07-16T19:10:12.155Z"
   },
   {
    "duration": 8,
    "start_time": "2024-07-16T19:10:12.176Z"
   },
   {
    "duration": 17,
    "start_time": "2024-07-16T19:10:12.185Z"
   },
   {
    "duration": 18,
    "start_time": "2024-07-16T19:10:12.203Z"
   },
   {
    "duration": 9,
    "start_time": "2024-07-16T19:10:12.222Z"
   },
   {
    "duration": 42,
    "start_time": "2024-07-16T19:10:12.232Z"
   },
   {
    "duration": 7,
    "start_time": "2024-07-16T19:10:12.275Z"
   },
   {
    "duration": 12,
    "start_time": "2024-07-16T19:10:12.283Z"
   },
   {
    "duration": 333,
    "start_time": "2024-07-16T19:10:12.297Z"
   },
   {
    "duration": 9,
    "start_time": "2024-07-16T19:10:12.632Z"
   },
   {
    "duration": 453,
    "start_time": "2024-07-16T19:10:12.642Z"
   },
   {
    "duration": 6,
    "start_time": "2024-07-16T19:10:13.097Z"
   },
   {
    "duration": 9,
    "start_time": "2024-07-16T19:10:13.104Z"
   },
   {
    "duration": 7,
    "start_time": "2024-07-16T19:10:13.115Z"
   },
   {
    "duration": 208,
    "start_time": "2024-07-16T19:10:13.124Z"
   },
   {
    "duration": 206,
    "start_time": "2024-07-16T19:10:13.337Z"
   },
   {
    "duration": 200,
    "start_time": "2024-07-16T19:10:13.545Z"
   },
   {
    "duration": 353,
    "start_time": "2024-07-16T19:10:13.747Z"
   },
   {
    "duration": 388,
    "start_time": "2024-07-16T19:10:14.102Z"
   },
   {
    "duration": 495,
    "start_time": "2024-07-16T19:10:14.491Z"
   },
   {
    "duration": 6,
    "start_time": "2024-07-16T19:10:14.988Z"
   },
   {
    "duration": 710,
    "start_time": "2024-07-16T19:10:14.996Z"
   },
   {
    "duration": 343,
    "start_time": "2024-07-16T19:10:15.708Z"
   },
   {
    "duration": 557,
    "start_time": "2024-07-16T19:10:16.053Z"
   },
   {
    "duration": 253,
    "start_time": "2024-07-16T19:10:16.615Z"
   },
   {
    "duration": 416,
    "start_time": "2024-07-16T19:10:16.870Z"
   },
   {
    "duration": 180,
    "start_time": "2024-07-16T19:10:17.289Z"
   },
   {
    "duration": 167,
    "start_time": "2024-07-16T19:10:17.471Z"
   },
   {
    "duration": 143,
    "start_time": "2024-07-16T19:10:17.639Z"
   },
   {
    "duration": 1434,
    "start_time": "2024-07-16T19:10:17.784Z"
   },
   {
    "duration": 184,
    "start_time": "2024-07-16T19:10:19.220Z"
   },
   {
    "duration": 173,
    "start_time": "2024-07-16T19:10:19.406Z"
   },
   {
    "duration": 159,
    "start_time": "2024-07-16T19:10:19.580Z"
   },
   {
    "duration": 208,
    "start_time": "2024-07-16T19:10:19.740Z"
   },
   {
    "duration": 155,
    "start_time": "2024-07-16T19:10:19.949Z"
   },
   {
    "duration": 632,
    "start_time": "2024-07-16T19:10:20.105Z"
   },
   {
    "duration": 257,
    "start_time": "2024-07-16T19:10:20.739Z"
   },
   {
    "duration": 1398,
    "start_time": "2024-07-16T19:10:20.998Z"
   },
   {
    "duration": 269,
    "start_time": "2024-07-16T19:10:22.398Z"
   },
   {
    "duration": 11,
    "start_time": "2024-07-16T19:10:22.668Z"
   },
   {
    "duration": 2230,
    "start_time": "2024-07-16T19:10:22.680Z"
   },
   {
    "duration": 52,
    "start_time": "2024-07-16T19:10:24.912Z"
   },
   {
    "duration": 336,
    "start_time": "2024-07-16T19:10:24.966Z"
   },
   {
    "duration": 9,
    "start_time": "2024-07-16T19:10:25.304Z"
   },
   {
    "duration": 228,
    "start_time": "2024-07-16T19:10:25.314Z"
   },
   {
    "duration": 42,
    "start_time": "2024-07-16T19:27:49.266Z"
   },
   {
    "duration": 3264,
    "start_time": "2024-07-16T19:28:05.268Z"
   },
   {
    "duration": 4,
    "start_time": "2024-07-16T19:28:08.705Z"
   },
   {
    "duration": 10,
    "start_time": "2024-07-16T19:28:10.727Z"
   },
   {
    "duration": 7,
    "start_time": "2024-07-16T19:28:12.440Z"
   },
   {
    "duration": 6,
    "start_time": "2024-07-16T19:28:15.281Z"
   },
   {
    "duration": 79,
    "start_time": "2024-07-16T19:28:17.238Z"
   },
   {
    "duration": 12,
    "start_time": "2024-07-16T19:28:36.122Z"
   },
   {
    "duration": 146,
    "start_time": "2024-07-16T19:28:38.243Z"
   },
   {
    "duration": 155,
    "start_time": "2024-07-16T19:28:41.383Z"
   },
   {
    "duration": 12,
    "start_time": "2024-07-16T19:28:53.055Z"
   },
   {
    "duration": 961,
    "start_time": "2024-07-16T19:29:14.617Z"
   },
   {
    "duration": 50,
    "start_time": "2024-07-16T19:29:25.957Z"
   },
   {
    "duration": 43,
    "start_time": "2024-07-16T19:29:45.940Z"
   },
   {
    "duration": 437,
    "start_time": "2024-07-16T19:31:17.639Z"
   },
   {
    "duration": 11,
    "start_time": "2024-07-16T19:31:26.057Z"
   },
   {
    "duration": 4,
    "start_time": "2024-07-16T19:32:21.672Z"
   },
   {
    "duration": 39,
    "start_time": "2024-07-16T19:32:25.856Z"
   },
   {
    "duration": 30,
    "start_time": "2024-07-16T19:32:37.518Z"
   }
  ],
  "colab": {
   "provenance": []
  },
  "kernelspec": {
   "display_name": "Python 3 (ipykernel)",
   "language": "python",
   "name": "python3"
  },
  "language_info": {
   "codemirror_mode": {
    "name": "ipython",
    "version": 3
   },
   "file_extension": ".py",
   "mimetype": "text/x-python",
   "name": "python",
   "nbconvert_exporter": "python",
   "pygments_lexer": "ipython3",
   "version": "3.9.5"
  },
  "toc": {
   "base_numbering": 1,
   "nav_menu": {},
   "number_sections": true,
   "sideBar": true,
   "skip_h1_title": true,
   "title_cell": "Table of Contents",
   "title_sidebar": "Contents",
   "toc_cell": false,
   "toc_position": {},
   "toc_section_display": true,
   "toc_window_display": false
  }
 },
 "nbformat": 4,
 "nbformat_minor": 1
}
